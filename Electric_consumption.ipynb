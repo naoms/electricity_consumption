{
 "cells": [
  {
   "cell_type": "code",
   "execution_count": 1,
   "metadata": {},
   "outputs": [],
   "source": [
    "# imports\n",
    "import pandas as pd\n",
    "import matplotlib as plt\n",
    "import seaborn as sns\n",
    "import numpy as np\n",
    "import warnings\n",
    "warnings.filterwarnings(\"ignore\") # may not always be the best thing to do...\n",
    "\n",
    "from sklearn.impute import SimpleImputer\n",
    "from sklearn.ensemble import RandomForestRegressor"
   ]
  },
  {
   "cell_type": "markdown",
   "metadata": {},
   "source": [
    "### Introduction - Initial contact with the data"
   ]
  },
  {
   "cell_type": "code",
   "execution_count": 2,
   "metadata": {},
   "outputs": [],
   "source": [
    "# Importing our data\n",
    "x_train = pd.read_csv(\"X_train_6GWGSxz.csv\")\n",
    "x_test = pd.read_csv(\"X_test_c2uBt2s.csv\")\n",
    "y_train = pd.read_csv(\"y_train_2G60rOL.csv\")"
   ]
  },
  {
   "cell_type": "code",
   "execution_count": 3,
   "metadata": {},
   "outputs": [
    {
     "name": "stdout",
     "output_type": "stream",
     "text": [
      "(417599, 10) (417599, 5)\n"
     ]
    },
    {
     "data": {
      "text/html": [
       "<div>\n",
       "<style scoped>\n",
       "    .dataframe tbody tr th:only-of-type {\n",
       "        vertical-align: middle;\n",
       "    }\n",
       "\n",
       "    .dataframe tbody tr th {\n",
       "        vertical-align: top;\n",
       "    }\n",
       "\n",
       "    .dataframe thead th {\n",
       "        text-align: right;\n",
       "    }\n",
       "</style>\n",
       "<table border=\"1\" class=\"dataframe\">\n",
       "  <thead>\n",
       "    <tr style=\"text-align: right;\">\n",
       "      <th></th>\n",
       "      <th>time_step</th>\n",
       "      <th>consumption</th>\n",
       "      <th>visibility</th>\n",
       "      <th>temperature</th>\n",
       "      <th>humidity</th>\n",
       "      <th>humidex</th>\n",
       "      <th>windchill</th>\n",
       "      <th>wind</th>\n",
       "      <th>pressure</th>\n",
       "      <th>Unnamed: 9</th>\n",
       "    </tr>\n",
       "  </thead>\n",
       "  <tbody>\n",
       "    <tr>\n",
       "      <th>0</th>\n",
       "      <td>2013-03-17T00:01:00.0</td>\n",
       "      <td>550.4000</td>\n",
       "      <td>NaN</td>\n",
       "      <td>NaN</td>\n",
       "      <td>NaN</td>\n",
       "      <td>NaN</td>\n",
       "      <td>NaN</td>\n",
       "      <td>NaN</td>\n",
       "      <td>NaN</td>\n",
       "      <td>NaN</td>\n",
       "    </tr>\n",
       "    <tr>\n",
       "      <th>1</th>\n",
       "      <td>2013-03-17T00:02:00.0</td>\n",
       "      <td>548.6000</td>\n",
       "      <td>NaN</td>\n",
       "      <td>NaN</td>\n",
       "      <td>NaN</td>\n",
       "      <td>NaN</td>\n",
       "      <td>NaN</td>\n",
       "      <td>NaN</td>\n",
       "      <td>NaN</td>\n",
       "      <td>NaN</td>\n",
       "    </tr>\n",
       "    <tr>\n",
       "      <th>2</th>\n",
       "      <td>2013-03-17T00:03:00.0</td>\n",
       "      <td>549.3000</td>\n",
       "      <td>NaN</td>\n",
       "      <td>NaN</td>\n",
       "      <td>NaN</td>\n",
       "      <td>NaN</td>\n",
       "      <td>NaN</td>\n",
       "      <td>NaN</td>\n",
       "      <td>NaN</td>\n",
       "      <td>NaN</td>\n",
       "    </tr>\n",
       "    <tr>\n",
       "      <th>3</th>\n",
       "      <td>2013-03-17T00:04:00.0</td>\n",
       "      <td>549.3667</td>\n",
       "      <td>NaN</td>\n",
       "      <td>NaN</td>\n",
       "      <td>NaN</td>\n",
       "      <td>NaN</td>\n",
       "      <td>NaN</td>\n",
       "      <td>NaN</td>\n",
       "      <td>NaN</td>\n",
       "      <td>NaN</td>\n",
       "    </tr>\n",
       "    <tr>\n",
       "      <th>4</th>\n",
       "      <td>2013-03-17T00:05:00.0</td>\n",
       "      <td>548.8909</td>\n",
       "      <td>NaN</td>\n",
       "      <td>NaN</td>\n",
       "      <td>NaN</td>\n",
       "      <td>NaN</td>\n",
       "      <td>NaN</td>\n",
       "      <td>NaN</td>\n",
       "      <td>NaN</td>\n",
       "      <td>NaN</td>\n",
       "    </tr>\n",
       "  </tbody>\n",
       "</table>\n",
       "</div>"
      ],
      "text/plain": [
       "               time_step  consumption  visibility  temperature  humidity  \\\n",
       "0  2013-03-17T00:01:00.0     550.4000         NaN          NaN       NaN   \n",
       "1  2013-03-17T00:02:00.0     548.6000         NaN          NaN       NaN   \n",
       "2  2013-03-17T00:03:00.0     549.3000         NaN          NaN       NaN   \n",
       "3  2013-03-17T00:04:00.0     549.3667         NaN          NaN       NaN   \n",
       "4  2013-03-17T00:05:00.0     548.8909         NaN          NaN       NaN   \n",
       "\n",
       "   humidex  windchill  wind  pressure  Unnamed: 9  \n",
       "0      NaN        NaN   NaN       NaN         NaN  \n",
       "1      NaN        NaN   NaN       NaN         NaN  \n",
       "2      NaN        NaN   NaN       NaN         NaN  \n",
       "3      NaN        NaN   NaN       NaN         NaN  \n",
       "4      NaN        NaN   NaN       NaN         NaN  "
      ]
     },
     "execution_count": 3,
     "metadata": {},
     "output_type": "execute_result"
    }
   ],
   "source": [
    "print(x_train.shape, y_train.shape)\n",
    "x_train.head()"
   ]
  },
  {
   "cell_type": "code",
   "execution_count": 4,
   "metadata": {},
   "outputs": [
    {
     "data": {
      "text/html": [
       "<div>\n",
       "<style scoped>\n",
       "    .dataframe tbody tr th:only-of-type {\n",
       "        vertical-align: middle;\n",
       "    }\n",
       "\n",
       "    .dataframe tbody tr th {\n",
       "        vertical-align: top;\n",
       "    }\n",
       "\n",
       "    .dataframe thead th {\n",
       "        text-align: right;\n",
       "    }\n",
       "</style>\n",
       "<table border=\"1\" class=\"dataframe\">\n",
       "  <thead>\n",
       "    <tr style=\"text-align: right;\">\n",
       "      <th></th>\n",
       "      <th>time_step</th>\n",
       "      <th>washing_machine</th>\n",
       "      <th>fridge_freezer</th>\n",
       "      <th>TV</th>\n",
       "      <th>kettle</th>\n",
       "    </tr>\n",
       "  </thead>\n",
       "  <tbody>\n",
       "    <tr>\n",
       "      <th>0</th>\n",
       "      <td>2013-03-17T00:01:00.0</td>\n",
       "      <td>0.0</td>\n",
       "      <td>79.2000</td>\n",
       "      <td>7.0</td>\n",
       "      <td>0.0</td>\n",
       "    </tr>\n",
       "    <tr>\n",
       "      <th>1</th>\n",
       "      <td>2013-03-17T00:02:00.0</td>\n",
       "      <td>0.0</td>\n",
       "      <td>78.0000</td>\n",
       "      <td>7.0</td>\n",
       "      <td>0.0</td>\n",
       "    </tr>\n",
       "    <tr>\n",
       "      <th>2</th>\n",
       "      <td>2013-03-17T00:03:00.0</td>\n",
       "      <td>0.0</td>\n",
       "      <td>76.9000</td>\n",
       "      <td>7.0</td>\n",
       "      <td>0.0</td>\n",
       "    </tr>\n",
       "    <tr>\n",
       "      <th>3</th>\n",
       "      <td>2013-03-17T00:04:00.0</td>\n",
       "      <td>0.0</td>\n",
       "      <td>76.1111</td>\n",
       "      <td>7.0</td>\n",
       "      <td>0.0</td>\n",
       "    </tr>\n",
       "    <tr>\n",
       "      <th>4</th>\n",
       "      <td>2013-03-17T00:05:00.0</td>\n",
       "      <td>0.0</td>\n",
       "      <td>75.2727</td>\n",
       "      <td>7.0</td>\n",
       "      <td>0.0</td>\n",
       "    </tr>\n",
       "  </tbody>\n",
       "</table>\n",
       "</div>"
      ],
      "text/plain": [
       "               time_step  washing_machine  fridge_freezer   TV  kettle\n",
       "0  2013-03-17T00:01:00.0              0.0         79.2000  7.0     0.0\n",
       "1  2013-03-17T00:02:00.0              0.0         78.0000  7.0     0.0\n",
       "2  2013-03-17T00:03:00.0              0.0         76.9000  7.0     0.0\n",
       "3  2013-03-17T00:04:00.0              0.0         76.1111  7.0     0.0\n",
       "4  2013-03-17T00:05:00.0              0.0         75.2727  7.0     0.0"
      ]
     },
     "execution_count": 4,
     "metadata": {},
     "output_type": "execute_result"
    }
   ],
   "source": [
    "y_train.head()"
   ]
  },
  {
   "cell_type": "markdown",
   "metadata": {},
   "source": [
    "Our objective is to predict an array of electronic equipment consumptions based on overall consumption for our home and weather indications, to implement \"non-intrusive\" monitoring methods.  \n",
    "We aim to predict a fraction of electric consumption by appliance. "
   ]
  },
  {
   "cell_type": "code",
   "execution_count": 5,
   "metadata": {},
   "outputs": [
    {
     "data": {
      "text/html": [
       "<div>\n",
       "<style scoped>\n",
       "    .dataframe tbody tr th:only-of-type {\n",
       "        vertical-align: middle;\n",
       "    }\n",
       "\n",
       "    .dataframe tbody tr th {\n",
       "        vertical-align: top;\n",
       "    }\n",
       "\n",
       "    .dataframe thead th {\n",
       "        text-align: right;\n",
       "    }\n",
       "</style>\n",
       "<table border=\"1\" class=\"dataframe\">\n",
       "  <thead>\n",
       "    <tr style=\"text-align: right;\">\n",
       "      <th></th>\n",
       "      <th>consumption</th>\n",
       "      <th>visibility</th>\n",
       "      <th>temperature</th>\n",
       "      <th>humidity</th>\n",
       "      <th>humidex</th>\n",
       "      <th>windchill</th>\n",
       "      <th>wind</th>\n",
       "      <th>pressure</th>\n",
       "      <th>Unnamed: 9</th>\n",
       "    </tr>\n",
       "  </thead>\n",
       "  <tbody>\n",
       "    <tr>\n",
       "      <th>count</th>\n",
       "      <td>407368.000000</td>\n",
       "      <td>6936.000000</td>\n",
       "      <td>6947.000000</td>\n",
       "      <td>6936.000000</td>\n",
       "      <td>6936.000000</td>\n",
       "      <td>6928.000000</td>\n",
       "      <td>6936.000000</td>\n",
       "      <td>6932.000000</td>\n",
       "      <td>1.0</td>\n",
       "    </tr>\n",
       "    <tr>\n",
       "      <th>mean</th>\n",
       "      <td>303.604240</td>\n",
       "      <td>23.817647</td>\n",
       "      <td>10.861293</td>\n",
       "      <td>82.966984</td>\n",
       "      <td>11.751153</td>\n",
       "      <td>9.331207</td>\n",
       "      <td>13.250433</td>\n",
       "      <td>1009.834550</td>\n",
       "      <td>4.0</td>\n",
       "    </tr>\n",
       "    <tr>\n",
       "      <th>std</th>\n",
       "      <td>343.624792</td>\n",
       "      <td>13.898124</td>\n",
       "      <td>4.681409</td>\n",
       "      <td>13.754116</td>\n",
       "      <td>5.471570</td>\n",
       "      <td>5.424768</td>\n",
       "      <td>7.976118</td>\n",
       "      <td>48.069813</td>\n",
       "      <td>NaN</td>\n",
       "    </tr>\n",
       "    <tr>\n",
       "      <th>min</th>\n",
       "      <td>106.000000</td>\n",
       "      <td>0.000000</td>\n",
       "      <td>-4.400000</td>\n",
       "      <td>26.000000</td>\n",
       "      <td>-4.400000</td>\n",
       "      <td>-5.900000</td>\n",
       "      <td>0.000000</td>\n",
       "      <td>1.000000</td>\n",
       "      <td>4.0</td>\n",
       "    </tr>\n",
       "    <tr>\n",
       "      <th>25%</th>\n",
       "      <td>158.000000</td>\n",
       "      <td>13.000000</td>\n",
       "      <td>7.600000</td>\n",
       "      <td>74.000000</td>\n",
       "      <td>7.600000</td>\n",
       "      <td>5.400000</td>\n",
       "      <td>7.000000</td>\n",
       "      <td>1005.400000</td>\n",
       "      <td>4.0</td>\n",
       "    </tr>\n",
       "    <tr>\n",
       "      <th>50%</th>\n",
       "      <td>192.000000</td>\n",
       "      <td>23.000000</td>\n",
       "      <td>10.900000</td>\n",
       "      <td>86.000000</td>\n",
       "      <td>11.600000</td>\n",
       "      <td>9.400000</td>\n",
       "      <td>13.000000</td>\n",
       "      <td>1013.200000</td>\n",
       "      <td>4.0</td>\n",
       "    </tr>\n",
       "    <tr>\n",
       "      <th>75%</th>\n",
       "      <td>312.250000</td>\n",
       "      <td>35.000000</td>\n",
       "      <td>14.100000</td>\n",
       "      <td>94.000000</td>\n",
       "      <td>15.700000</td>\n",
       "      <td>13.200000</td>\n",
       "      <td>19.000000</td>\n",
       "      <td>1019.200000</td>\n",
       "      <td>4.0</td>\n",
       "    </tr>\n",
       "    <tr>\n",
       "      <th>max</th>\n",
       "      <td>7571.222200</td>\n",
       "      <td>75.000000</td>\n",
       "      <td>27.800000</td>\n",
       "      <td>100.000000</td>\n",
       "      <td>30.700000</td>\n",
       "      <td>27.800000</td>\n",
       "      <td>52.000000</td>\n",
       "      <td>1039.500000</td>\n",
       "      <td>4.0</td>\n",
       "    </tr>\n",
       "  </tbody>\n",
       "</table>\n",
       "</div>"
      ],
      "text/plain": [
       "         consumption   visibility  temperature     humidity      humidex  \\\n",
       "count  407368.000000  6936.000000  6947.000000  6936.000000  6936.000000   \n",
       "mean      303.604240    23.817647    10.861293    82.966984    11.751153   \n",
       "std       343.624792    13.898124     4.681409    13.754116     5.471570   \n",
       "min       106.000000     0.000000    -4.400000    26.000000    -4.400000   \n",
       "25%       158.000000    13.000000     7.600000    74.000000     7.600000   \n",
       "50%       192.000000    23.000000    10.900000    86.000000    11.600000   \n",
       "75%       312.250000    35.000000    14.100000    94.000000    15.700000   \n",
       "max      7571.222200    75.000000    27.800000   100.000000    30.700000   \n",
       "\n",
       "         windchill         wind     pressure  Unnamed: 9  \n",
       "count  6928.000000  6936.000000  6932.000000         1.0  \n",
       "mean      9.331207    13.250433  1009.834550         4.0  \n",
       "std       5.424768     7.976118    48.069813         NaN  \n",
       "min      -5.900000     0.000000     1.000000         4.0  \n",
       "25%       5.400000     7.000000  1005.400000         4.0  \n",
       "50%       9.400000    13.000000  1013.200000         4.0  \n",
       "75%      13.200000    19.000000  1019.200000         4.0  \n",
       "max      27.800000    52.000000  1039.500000         4.0  "
      ]
     },
     "execution_count": 5,
     "metadata": {},
     "output_type": "execute_result"
    }
   ],
   "source": [
    "x_train.describe()"
   ]
  },
  {
   "cell_type": "code",
   "execution_count": 6,
   "metadata": {},
   "outputs": [
    {
     "data": {
      "text/html": [
       "<div>\n",
       "<style scoped>\n",
       "    .dataframe tbody tr th:only-of-type {\n",
       "        vertical-align: middle;\n",
       "    }\n",
       "\n",
       "    .dataframe tbody tr th {\n",
       "        vertical-align: top;\n",
       "    }\n",
       "\n",
       "    .dataframe thead th {\n",
       "        text-align: right;\n",
       "    }\n",
       "</style>\n",
       "<table border=\"1\" class=\"dataframe\">\n",
       "  <thead>\n",
       "    <tr style=\"text-align: right;\">\n",
       "      <th></th>\n",
       "      <th>washing_machine</th>\n",
       "      <th>fridge_freezer</th>\n",
       "      <th>TV</th>\n",
       "      <th>kettle</th>\n",
       "    </tr>\n",
       "  </thead>\n",
       "  <tbody>\n",
       "    <tr>\n",
       "      <th>count</th>\n",
       "      <td>407368.000000</td>\n",
       "      <td>407368.000000</td>\n",
       "      <td>407368.000000</td>\n",
       "      <td>407368.000000</td>\n",
       "    </tr>\n",
       "    <tr>\n",
       "      <th>mean</th>\n",
       "      <td>5.549846</td>\n",
       "      <td>49.788985</td>\n",
       "      <td>14.566326</td>\n",
       "      <td>4.945594</td>\n",
       "    </tr>\n",
       "    <tr>\n",
       "      <th>std</th>\n",
       "      <td>56.893803</td>\n",
       "      <td>52.852856</td>\n",
       "      <td>17.514445</td>\n",
       "      <td>104.781433</td>\n",
       "    </tr>\n",
       "    <tr>\n",
       "      <th>min</th>\n",
       "      <td>0.000000</td>\n",
       "      <td>0.000000</td>\n",
       "      <td>3.500000</td>\n",
       "      <td>0.000000</td>\n",
       "    </tr>\n",
       "    <tr>\n",
       "      <th>25%</th>\n",
       "      <td>0.000000</td>\n",
       "      <td>0.000000</td>\n",
       "      <td>7.000000</td>\n",
       "      <td>0.000000</td>\n",
       "    </tr>\n",
       "    <tr>\n",
       "      <th>50%</th>\n",
       "      <td>0.000000</td>\n",
       "      <td>58.750000</td>\n",
       "      <td>7.000000</td>\n",
       "      <td>0.000000</td>\n",
       "    </tr>\n",
       "    <tr>\n",
       "      <th>75%</th>\n",
       "      <td>0.000000</td>\n",
       "      <td>87.400000</td>\n",
       "      <td>7.000000</td>\n",
       "      <td>0.000000</td>\n",
       "    </tr>\n",
       "    <tr>\n",
       "      <th>max</th>\n",
       "      <td>2430.600000</td>\n",
       "      <td>566.500000</td>\n",
       "      <td>109.500000</td>\n",
       "      <td>3084.000000</td>\n",
       "    </tr>\n",
       "  </tbody>\n",
       "</table>\n",
       "</div>"
      ],
      "text/plain": [
       "       washing_machine  fridge_freezer             TV         kettle\n",
       "count    407368.000000   407368.000000  407368.000000  407368.000000\n",
       "mean          5.549846       49.788985      14.566326       4.945594\n",
       "std          56.893803       52.852856      17.514445     104.781433\n",
       "min           0.000000        0.000000       3.500000       0.000000\n",
       "25%           0.000000        0.000000       7.000000       0.000000\n",
       "50%           0.000000       58.750000       7.000000       0.000000\n",
       "75%           0.000000       87.400000       7.000000       0.000000\n",
       "max        2430.600000      566.500000     109.500000    3084.000000"
      ]
     },
     "execution_count": 6,
     "metadata": {},
     "output_type": "execute_result"
    }
   ],
   "source": [
    "y_train.describe()"
   ]
  },
  {
   "cell_type": "code",
   "execution_count": 7,
   "metadata": {},
   "outputs": [
    {
     "data": {
      "text/plain": [
       "time_step           0\n",
       "consumption     10231\n",
       "visibility     410663\n",
       "temperature    410652\n",
       "humidity       410663\n",
       "humidex        410663\n",
       "windchill      410671\n",
       "wind           410663\n",
       "pressure       410667\n",
       "Unnamed: 9     417598\n",
       "dtype: int64"
      ]
     },
     "execution_count": 7,
     "metadata": {},
     "output_type": "execute_result"
    }
   ],
   "source": [
    "x_train.isna().sum()"
   ]
  },
  {
   "cell_type": "markdown",
   "metadata": {},
   "source": [
    "One of our key challenges will be the high occurrence of missing datapoints in our frame.  \n",
    "All variables except consumption and unnamed seem to have approxiately the same number of missing values, potentially indicating a pattern in the missing data."
   ]
  },
  {
   "cell_type": "code",
   "execution_count": 8,
   "metadata": {},
   "outputs": [
    {
     "data": {
      "text/plain": [
       "time_step              0\n",
       "washing_machine    10231\n",
       "fridge_freezer     10231\n",
       "TV                 10231\n",
       "kettle             10231\n",
       "dtype: int64"
      ]
     },
     "execution_count": 8,
     "metadata": {},
     "output_type": "execute_result"
    }
   ],
   "source": [
    "# The missing values in overall consumption entail missing values for each equipment\n",
    "y_train.isna().sum()"
   ]
  },
  {
   "cell_type": "code",
   "execution_count": 9,
   "metadata": {},
   "outputs": [
    {
     "data": {
      "text/html": [
       "<div>\n",
       "<style scoped>\n",
       "    .dataframe tbody tr th:only-of-type {\n",
       "        vertical-align: middle;\n",
       "    }\n",
       "\n",
       "    .dataframe tbody tr th {\n",
       "        vertical-align: top;\n",
       "    }\n",
       "\n",
       "    .dataframe thead th {\n",
       "        text-align: right;\n",
       "    }\n",
       "</style>\n",
       "<table border=\"1\" class=\"dataframe\">\n",
       "  <thead>\n",
       "    <tr style=\"text-align: right;\">\n",
       "      <th></th>\n",
       "      <th>consumption</th>\n",
       "      <th>visibility</th>\n",
       "      <th>temperature</th>\n",
       "      <th>humidity</th>\n",
       "      <th>humidex</th>\n",
       "      <th>windchill</th>\n",
       "      <th>wind</th>\n",
       "      <th>pressure</th>\n",
       "      <th>Unnamed: 9</th>\n",
       "      <th>time_step</th>\n",
       "      <th>washing_machine</th>\n",
       "      <th>fridge_freezer</th>\n",
       "      <th>TV</th>\n",
       "      <th>kettle</th>\n",
       "    </tr>\n",
       "  </thead>\n",
       "  <tbody>\n",
       "    <tr>\n",
       "      <th>0</th>\n",
       "      <td>550.4000</td>\n",
       "      <td>NaN</td>\n",
       "      <td>NaN</td>\n",
       "      <td>NaN</td>\n",
       "      <td>NaN</td>\n",
       "      <td>NaN</td>\n",
       "      <td>NaN</td>\n",
       "      <td>NaN</td>\n",
       "      <td>NaN</td>\n",
       "      <td>2013-03-17T00:01:00.0</td>\n",
       "      <td>0.0</td>\n",
       "      <td>79.2000</td>\n",
       "      <td>7.0</td>\n",
       "      <td>0.0</td>\n",
       "    </tr>\n",
       "    <tr>\n",
       "      <th>1</th>\n",
       "      <td>548.6000</td>\n",
       "      <td>NaN</td>\n",
       "      <td>NaN</td>\n",
       "      <td>NaN</td>\n",
       "      <td>NaN</td>\n",
       "      <td>NaN</td>\n",
       "      <td>NaN</td>\n",
       "      <td>NaN</td>\n",
       "      <td>NaN</td>\n",
       "      <td>2013-03-17T00:02:00.0</td>\n",
       "      <td>0.0</td>\n",
       "      <td>78.0000</td>\n",
       "      <td>7.0</td>\n",
       "      <td>0.0</td>\n",
       "    </tr>\n",
       "    <tr>\n",
       "      <th>2</th>\n",
       "      <td>549.3000</td>\n",
       "      <td>NaN</td>\n",
       "      <td>NaN</td>\n",
       "      <td>NaN</td>\n",
       "      <td>NaN</td>\n",
       "      <td>NaN</td>\n",
       "      <td>NaN</td>\n",
       "      <td>NaN</td>\n",
       "      <td>NaN</td>\n",
       "      <td>2013-03-17T00:03:00.0</td>\n",
       "      <td>0.0</td>\n",
       "      <td>76.9000</td>\n",
       "      <td>7.0</td>\n",
       "      <td>0.0</td>\n",
       "    </tr>\n",
       "    <tr>\n",
       "      <th>3</th>\n",
       "      <td>549.3667</td>\n",
       "      <td>NaN</td>\n",
       "      <td>NaN</td>\n",
       "      <td>NaN</td>\n",
       "      <td>NaN</td>\n",
       "      <td>NaN</td>\n",
       "      <td>NaN</td>\n",
       "      <td>NaN</td>\n",
       "      <td>NaN</td>\n",
       "      <td>2013-03-17T00:04:00.0</td>\n",
       "      <td>0.0</td>\n",
       "      <td>76.1111</td>\n",
       "      <td>7.0</td>\n",
       "      <td>0.0</td>\n",
       "    </tr>\n",
       "    <tr>\n",
       "      <th>4</th>\n",
       "      <td>548.8909</td>\n",
       "      <td>NaN</td>\n",
       "      <td>NaN</td>\n",
       "      <td>NaN</td>\n",
       "      <td>NaN</td>\n",
       "      <td>NaN</td>\n",
       "      <td>NaN</td>\n",
       "      <td>NaN</td>\n",
       "      <td>NaN</td>\n",
       "      <td>2013-03-17T00:05:00.0</td>\n",
       "      <td>0.0</td>\n",
       "      <td>75.2727</td>\n",
       "      <td>7.0</td>\n",
       "      <td>0.0</td>\n",
       "    </tr>\n",
       "  </tbody>\n",
       "</table>\n",
       "</div>"
      ],
      "text/plain": [
       "   consumption  visibility  temperature  humidity  humidex  windchill  wind  \\\n",
       "0     550.4000         NaN          NaN       NaN      NaN        NaN   NaN   \n",
       "1     548.6000         NaN          NaN       NaN      NaN        NaN   NaN   \n",
       "2     549.3000         NaN          NaN       NaN      NaN        NaN   NaN   \n",
       "3     549.3667         NaN          NaN       NaN      NaN        NaN   NaN   \n",
       "4     548.8909         NaN          NaN       NaN      NaN        NaN   NaN   \n",
       "\n",
       "   pressure  Unnamed: 9              time_step  washing_machine  \\\n",
       "0       NaN         NaN  2013-03-17T00:01:00.0              0.0   \n",
       "1       NaN         NaN  2013-03-17T00:02:00.0              0.0   \n",
       "2       NaN         NaN  2013-03-17T00:03:00.0              0.0   \n",
       "3       NaN         NaN  2013-03-17T00:04:00.0              0.0   \n",
       "4       NaN         NaN  2013-03-17T00:05:00.0              0.0   \n",
       "\n",
       "   fridge_freezer   TV  kettle  \n",
       "0         79.2000  7.0     0.0  \n",
       "1         78.0000  7.0     0.0  \n",
       "2         76.9000  7.0     0.0  \n",
       "3         76.1111  7.0     0.0  \n",
       "4         75.2727  7.0     0.0  "
      ]
     },
     "execution_count": 9,
     "metadata": {},
     "output_type": "execute_result"
    }
   ],
   "source": [
    "# Creating a training dataframe for data exploration\n",
    "data = pd.concat([x_train,y_train],axis=1,sort=False)\n",
    "data = data.loc[:,\"consumption\":\"kettle\"] # duplicate time_steps otherwise\n",
    "data.head()"
   ]
  },
  {
   "cell_type": "code",
   "execution_count": 75,
   "metadata": {},
   "outputs": [
    {
     "data": {
      "text/plain": [
       "consumption        10231\n",
       "visibility         10080\n",
       "temperature        10080\n",
       "humidity           10080\n",
       "humidex            10080\n",
       "windchill          10080\n",
       "wind               10080\n",
       "pressure           10080\n",
       "Unnamed: 9         10231\n",
       "time_step              0\n",
       "washing_machine    10231\n",
       "fridge_freezer     10231\n",
       "TV                 10231\n",
       "kettle             10231\n",
       "dtype: int64"
      ]
     },
     "execution_count": 75,
     "metadata": {},
     "output_type": "execute_result"
    }
   ],
   "source": [
    "mask = data[\"consumption\"].isna()\n",
    "data[mask].isna().sum()"
   ]
  },
  {
   "cell_type": "markdown",
   "metadata": {},
   "source": [
    "Missing values in consumption entail missing values in y_train.  \n",
    "This could cause us to delete such observations at least temporarily since they are missing information on all variables and represent only 2.4% of the dataset."
   ]
  },
  {
   "cell_type": "code",
   "execution_count": 76,
   "metadata": {},
   "outputs": [
    {
     "data": {
      "text/plain": [
       "array([[<matplotlib.axes._subplots.AxesSubplot object at 0x1a21922da0>,\n",
       "        <matplotlib.axes._subplots.AxesSubplot object at 0x1a4253d5f8>,\n",
       "        <matplotlib.axes._subplots.AxesSubplot object at 0x1a22367748>],\n",
       "       [<matplotlib.axes._subplots.AxesSubplot object at 0x1a1bef1898>,\n",
       "        <matplotlib.axes._subplots.AxesSubplot object at 0x1a1bf20d68>,\n",
       "        <matplotlib.axes._subplots.AxesSubplot object at 0x1a1bf52e80>],\n",
       "       [<matplotlib.axes._subplots.AxesSubplot object at 0x1a1bf8a470>,\n",
       "        <matplotlib.axes._subplots.AxesSubplot object at 0x1a1c127a58>,\n",
       "        <matplotlib.axes._subplots.AxesSubplot object at 0x1a1c127a90>]],\n",
       "      dtype=object)"
      ]
     },
     "execution_count": 76,
     "metadata": {},
     "output_type": "execute_result"
    },
    {
     "data": {
      "image/png": "[encoded data removed]",
      "text/plain": [
       "<Figure size 720x720 with 9 Axes>"
      ]
     },
     "metadata": {
      "needs_background": "light"
     },
     "output_type": "display_data"
    }
   ],
   "source": [
    "# Getting a first look at the training data\n",
    "x_train.hist(bins=50, figsize=(10,10))"
   ]
  },
  {
   "cell_type": "markdown",
   "metadata": {},
   "source": [
    "3 weather variables seem to have near normal distributions: humidex, temperature, windchill.  \n",
    "We could use simulations of normal distributions with same mean and variance to fill in their missing values. "
   ]
  },
  {
   "cell_type": "markdown",
   "metadata": {},
   "source": [
    "###### Investigating consumption as a driver"
   ]
  },
  {
   "cell_type": "markdown",
   "metadata": {},
   "source": [
    "Our intuition is that consumption will be one of the best predictors for the output consumptions"
   ]
  },
  {
   "cell_type": "code",
   "execution_count": 86,
   "metadata": {},
   "outputs": [
    {
     "data": {
      "text/html": [
       "<style  type=\"text/css\" >\n",
       "    #T_97dbc1d2_4760_11ea_8767_7c04d0d0d02erow0_col0 {\n",
       "            background-color:  #4d004b;\n",
       "            color:  #f1f1f1;\n",
       "        }    #T_97dbc1d2_4760_11ea_8767_7c04d0d0d02erow0_col1 {\n",
       "            background-color:  #a9c4de;\n",
       "            color:  #000000;\n",
       "        }    #T_97dbc1d2_4760_11ea_8767_7c04d0d0d02erow0_col2 {\n",
       "            background-color:  #b1c9e1;\n",
       "            color:  #000000;\n",
       "        }    #T_97dbc1d2_4760_11ea_8767_7c04d0d0d02erow0_col3 {\n",
       "            background-color:  #a7c2dd;\n",
       "            color:  #000000;\n",
       "        }    #T_97dbc1d2_4760_11ea_8767_7c04d0d0d02erow0_col4 {\n",
       "            background-color:  #bed2e6;\n",
       "            color:  #000000;\n",
       "        }    #T_97dbc1d2_4760_11ea_8767_7c04d0d0d02erow0_col5 {\n",
       "            background-color:  #bacfe4;\n",
       "            color:  #000000;\n",
       "        }    #T_97dbc1d2_4760_11ea_8767_7c04d0d0d02erow0_col6 {\n",
       "            background-color:  #c6d8e9;\n",
       "            color:  #000000;\n",
       "        }    #T_97dbc1d2_4760_11ea_8767_7c04d0d0d02erow0_col7 {\n",
       "            background-color:  #f6fbfc;\n",
       "            color:  #000000;\n",
       "        }    #T_97dbc1d2_4760_11ea_8767_7c04d0d0d02erow0_col8 {\n",
       "            background-color:  #c7d9e9;\n",
       "            color:  #000000;\n",
       "        }    #T_97dbc1d2_4760_11ea_8767_7c04d0d0d02erow0_col9 {\n",
       "            background-color:  #dfebf4;\n",
       "            color:  #000000;\n",
       "        }    #T_97dbc1d2_4760_11ea_8767_7c04d0d0d02erow0_col10 {\n",
       "            background-color:  #cbdceb;\n",
       "            color:  #000000;\n",
       "        }    #T_97dbc1d2_4760_11ea_8767_7c04d0d0d02erow0_col11 {\n",
       "            background-color:  #99b2d5;\n",
       "            color:  #000000;\n",
       "        }    #T_97dbc1d2_4760_11ea_8767_7c04d0d0d02erow1_col0 {\n",
       "            background-color:  #e6f0f7;\n",
       "            color:  #000000;\n",
       "        }    #T_97dbc1d2_4760_11ea_8767_7c04d0d0d02erow1_col1 {\n",
       "            background-color:  #4d004b;\n",
       "            color:  #f1f1f1;\n",
       "        }    #T_97dbc1d2_4760_11ea_8767_7c04d0d0d02erow1_col2 {\n",
       "            background-color:  #a4c0dc;\n",
       "            color:  #000000;\n",
       "        }    #T_97dbc1d2_4760_11ea_8767_7c04d0d0d02erow1_col3 {\n",
       "            background-color:  #f1f7fa;\n",
       "            color:  #000000;\n",
       "        }    #T_97dbc1d2_4760_11ea_8767_7c04d0d0d02erow1_col4 {\n",
       "            background-color:  #b9cee4;\n",
       "            color:  #000000;\n",
       "        }    #T_97dbc1d2_4760_11ea_8767_7c04d0d0d02erow1_col5 {\n",
       "            background-color:  #b2cae1;\n",
       "            color:  #000000;\n",
       "        }    #T_97dbc1d2_4760_11ea_8767_7c04d0d0d02erow1_col6 {\n",
       "            background-color:  #a9c4de;\n",
       "            color:  #000000;\n",
       "        }    #T_97dbc1d2_4760_11ea_8767_7c04d0d0d02erow1_col7 {\n",
       "            background-color:  #edf5f9;\n",
       "            color:  #000000;\n",
       "        }    #T_97dbc1d2_4760_11ea_8767_7c04d0d0d02erow1_col8 {\n",
       "            background-color:  #f7fcfd;\n",
       "            color:  #000000;\n",
       "        }    #T_97dbc1d2_4760_11ea_8767_7c04d0d0d02erow1_col9 {\n",
       "            background-color:  #f7fcfd;\n",
       "            color:  #000000;\n",
       "        }    #T_97dbc1d2_4760_11ea_8767_7c04d0d0d02erow1_col10 {\n",
       "            background-color:  #f1f7fa;\n",
       "            color:  #000000;\n",
       "        }    #T_97dbc1d2_4760_11ea_8767_7c04d0d0d02erow1_col11 {\n",
       "            background-color:  #f1f7fa;\n",
       "            color:  #000000;\n",
       "        }    #T_97dbc1d2_4760_11ea_8767_7c04d0d0d02erow2_col0 {\n",
       "            background-color:  #f6fbfc;\n",
       "            color:  #000000;\n",
       "        }    #T_97dbc1d2_4760_11ea_8767_7c04d0d0d02erow2_col1 {\n",
       "            background-color:  #aac4de;\n",
       "            color:  #000000;\n",
       "        }    #T_97dbc1d2_4760_11ea_8767_7c04d0d0d02erow2_col2 {\n",
       "            background-color:  #4d004b;\n",
       "            color:  #f1f1f1;\n",
       "        }    #T_97dbc1d2_4760_11ea_8767_7c04d0d0d02erow2_col3 {\n",
       "            background-color:  #f7fcfd;\n",
       "            color:  #000000;\n",
       "        }    #T_97dbc1d2_4760_11ea_8767_7c04d0d0d02erow2_col4 {\n",
       "            background-color:  #4f004d;\n",
       "            color:  #f1f1f1;\n",
       "        }    #T_97dbc1d2_4760_11ea_8767_7c04d0d0d02erow2_col5 {\n",
       "            background-color:  #520150;\n",
       "            color:  #f1f1f1;\n",
       "        }    #T_97dbc1d2_4760_11ea_8767_7c04d0d0d02erow2_col6 {\n",
       "            background-color:  #b9cee4;\n",
       "            color:  #000000;\n",
       "        }    #T_97dbc1d2_4760_11ea_8767_7c04d0d0d02erow2_col7 {\n",
       "            background-color:  #e2edf5;\n",
       "            color:  #000000;\n",
       "        }    #T_97dbc1d2_4760_11ea_8767_7c04d0d0d02erow2_col8 {\n",
       "            background-color:  #f4fafc;\n",
       "            color:  #000000;\n",
       "        }    #T_97dbc1d2_4760_11ea_8767_7c04d0d0d02erow2_col9 {\n",
       "            background-color:  #e8f1f7;\n",
       "            color:  #000000;\n",
       "        }    #T_97dbc1d2_4760_11ea_8767_7c04d0d0d02erow2_col10 {\n",
       "            background-color:  #f6fbfd;\n",
       "            color:  #000000;\n",
       "        }    #T_97dbc1d2_4760_11ea_8767_7c04d0d0d02erow2_col11 {\n",
       "            background-color:  #f3f9fc;\n",
       "            color:  #000000;\n",
       "        }    #T_97dbc1d2_4760_11ea_8767_7c04d0d0d02erow3_col0 {\n",
       "            background-color:  #ebf4f8;\n",
       "            color:  #000000;\n",
       "        }    #T_97dbc1d2_4760_11ea_8767_7c04d0d0d02erow3_col1 {\n",
       "            background-color:  #f7fcfd;\n",
       "            color:  #000000;\n",
       "        }    #T_97dbc1d2_4760_11ea_8767_7c04d0d0d02erow3_col2 {\n",
       "            background-color:  #f7fcfd;\n",
       "            color:  #000000;\n",
       "        }    #T_97dbc1d2_4760_11ea_8767_7c04d0d0d02erow3_col3 {\n",
       "            background-color:  #4d004b;\n",
       "            color:  #f1f1f1;\n",
       "        }    #T_97dbc1d2_4760_11ea_8767_7c04d0d0d02erow3_col4 {\n",
       "            background-color:  #f7fcfd;\n",
       "            color:  #000000;\n",
       "        }    #T_97dbc1d2_4760_11ea_8767_7c04d0d0d02erow3_col5 {\n",
       "            background-color:  #f7fcfd;\n",
       "            color:  #000000;\n",
       "        }    #T_97dbc1d2_4760_11ea_8767_7c04d0d0d02erow3_col6 {\n",
       "            background-color:  #f7fcfd;\n",
       "            color:  #000000;\n",
       "        }    #T_97dbc1d2_4760_11ea_8767_7c04d0d0d02erow3_col7 {\n",
       "            background-color:  #f1f7fa;\n",
       "            color:  #000000;\n",
       "        }    #T_97dbc1d2_4760_11ea_8767_7c04d0d0d02erow3_col8 {\n",
       "            background-color:  #f6fbfd;\n",
       "            color:  #000000;\n",
       "        }    #T_97dbc1d2_4760_11ea_8767_7c04d0d0d02erow3_col9 {\n",
       "            background-color:  #f5fafc;\n",
       "            color:  #000000;\n",
       "        }    #T_97dbc1d2_4760_11ea_8767_7c04d0d0d02erow3_col10 {\n",
       "            background-color:  #f6fbfd;\n",
       "            color:  #000000;\n",
       "        }    #T_97dbc1d2_4760_11ea_8767_7c04d0d0d02erow3_col11 {\n",
       "            background-color:  #f1f8fb;\n",
       "            color:  #000000;\n",
       "        }    #T_97dbc1d2_4760_11ea_8767_7c04d0d0d02erow4_col0 {\n",
       "            background-color:  #f6fbfd;\n",
       "            color:  #000000;\n",
       "        }    #T_97dbc1d2_4760_11ea_8767_7c04d0d0d02erow4_col1 {\n",
       "            background-color:  #b3cbe2;\n",
       "            color:  #000000;\n",
       "        }    #T_97dbc1d2_4760_11ea_8767_7c04d0d0d02erow4_col2 {\n",
       "            background-color:  #4f004d;\n",
       "            color:  #f1f1f1;\n",
       "        }    #T_97dbc1d2_4760_11ea_8767_7c04d0d0d02erow4_col3 {\n",
       "            background-color:  #ecf4f9;\n",
       "            color:  #000000;\n",
       "        }    #T_97dbc1d2_4760_11ea_8767_7c04d0d0d02erow4_col4 {\n",
       "            background-color:  #4d004b;\n",
       "            color:  #f1f1f1;\n",
       "        }    #T_97dbc1d2_4760_11ea_8767_7c04d0d0d02erow4_col5 {\n",
       "            background-color:  #540251;\n",
       "            color:  #f1f1f1;\n",
       "        }    #T_97dbc1d2_4760_11ea_8767_7c04d0d0d02erow4_col6 {\n",
       "            background-color:  #bed2e6;\n",
       "            color:  #000000;\n",
       "        }    #T_97dbc1d2_4760_11ea_8767_7c04d0d0d02erow4_col7 {\n",
       "            background-color:  #e2edf5;\n",
       "            color:  #000000;\n",
       "        }    #T_97dbc1d2_4760_11ea_8767_7c04d0d0d02erow4_col8 {\n",
       "            background-color:  #f4fafc;\n",
       "            color:  #000000;\n",
       "        }    #T_97dbc1d2_4760_11ea_8767_7c04d0d0d02erow4_col9 {\n",
       "            background-color:  #e7f1f7;\n",
       "            color:  #000000;\n",
       "        }    #T_97dbc1d2_4760_11ea_8767_7c04d0d0d02erow4_col10 {\n",
       "            background-color:  #f6fbfd;\n",
       "            color:  #000000;\n",
       "        }    #T_97dbc1d2_4760_11ea_8767_7c04d0d0d02erow4_col11 {\n",
       "            background-color:  #f3f9fc;\n",
       "            color:  #000000;\n",
       "        }    #T_97dbc1d2_4760_11ea_8767_7c04d0d0d02erow5_col0 {\n",
       "            background-color:  #f6fbfd;\n",
       "            color:  #000000;\n",
       "        }    #T_97dbc1d2_4760_11ea_8767_7c04d0d0d02erow5_col1 {\n",
       "            background-color:  #b1c9e1;\n",
       "            color:  #000000;\n",
       "        }    #T_97dbc1d2_4760_11ea_8767_7c04d0d0d02erow5_col2 {\n",
       "            background-color:  #520150;\n",
       "            color:  #f1f1f1;\n",
       "        }    #T_97dbc1d2_4760_11ea_8767_7c04d0d0d02erow5_col3 {\n",
       "            background-color:  #f1f7fa;\n",
       "            color:  #000000;\n",
       "        }    #T_97dbc1d2_4760_11ea_8767_7c04d0d0d02erow5_col4 {\n",
       "            background-color:  #540251;\n",
       "            color:  #f1f1f1;\n",
       "        }    #T_97dbc1d2_4760_11ea_8767_7c04d0d0d02erow5_col5 {\n",
       "            background-color:  #4d004b;\n",
       "            color:  #f1f1f1;\n",
       "        }    #T_97dbc1d2_4760_11ea_8767_7c04d0d0d02erow5_col6 {\n",
       "            background-color:  #e0ecf4;\n",
       "            color:  #000000;\n",
       "        }    #T_97dbc1d2_4760_11ea_8767_7c04d0d0d02erow5_col7 {\n",
       "            background-color:  #dfebf4;\n",
       "            color:  #000000;\n",
       "        }    #T_97dbc1d2_4760_11ea_8767_7c04d0d0d02erow5_col8 {\n",
       "            background-color:  #f3f9fc;\n",
       "            color:  #000000;\n",
       "        }    #T_97dbc1d2_4760_11ea_8767_7c04d0d0d02erow5_col9 {\n",
       "            background-color:  #e8f1f7;\n",
       "            color:  #000000;\n",
       "        }    #T_97dbc1d2_4760_11ea_8767_7c04d0d0d02erow5_col10 {\n",
       "            background-color:  #f7fcfd;\n",
       "            color:  #000000;\n",
       "        }    #T_97dbc1d2_4760_11ea_8767_7c04d0d0d02erow5_col11 {\n",
       "            background-color:  #f3f9fc;\n",
       "            color:  #000000;\n",
       "        }    #T_97dbc1d2_4760_11ea_8767_7c04d0d0d02erow6_col0 {\n",
       "            background-color:  #e9f2f7;\n",
       "            color:  #000000;\n",
       "        }    #T_97dbc1d2_4760_11ea_8767_7c04d0d0d02erow6_col1 {\n",
       "            background-color:  #97add2;\n",
       "            color:  #000000;\n",
       "        }    #T_97dbc1d2_4760_11ea_8767_7c04d0d0d02erow6_col2 {\n",
       "            background-color:  #9bb6d7;\n",
       "            color:  #000000;\n",
       "        }    #T_97dbc1d2_4760_11ea_8767_7c04d0d0d02erow6_col3 {\n",
       "            background-color:  #d6e4f0;\n",
       "            color:  #000000;\n",
       "        }    #T_97dbc1d2_4760_11ea_8767_7c04d0d0d02erow6_col4 {\n",
       "            background-color:  #a8c3de;\n",
       "            color:  #000000;\n",
       "        }    #T_97dbc1d2_4760_11ea_8767_7c04d0d0d02erow6_col5 {\n",
       "            background-color:  #c1d4e7;\n",
       "            color:  #000000;\n",
       "        }    #T_97dbc1d2_4760_11ea_8767_7c04d0d0d02erow6_col6 {\n",
       "            background-color:  #4d004b;\n",
       "            color:  #f1f1f1;\n",
       "        }    #T_97dbc1d2_4760_11ea_8767_7c04d0d0d02erow6_col7 {\n",
       "            background-color:  #f7fcfd;\n",
       "            color:  #000000;\n",
       "        }    #T_97dbc1d2_4760_11ea_8767_7c04d0d0d02erow6_col8 {\n",
       "            background-color:  #f7fcfd;\n",
       "            color:  #000000;\n",
       "        }    #T_97dbc1d2_4760_11ea_8767_7c04d0d0d02erow6_col9 {\n",
       "            background-color:  #f7fcfd;\n",
       "            color:  #000000;\n",
       "        }    #T_97dbc1d2_4760_11ea_8767_7c04d0d0d02erow6_col10 {\n",
       "            background-color:  #eff6fa;\n",
       "            color:  #000000;\n",
       "        }    #T_97dbc1d2_4760_11ea_8767_7c04d0d0d02erow6_col11 {\n",
       "            background-color:  #f1f8fb;\n",
       "            color:  #000000;\n",
       "        }    #T_97dbc1d2_4760_11ea_8767_7c04d0d0d02erow7_col0 {\n",
       "            background-color:  #f7fcfd;\n",
       "            color:  #000000;\n",
       "        }    #T_97dbc1d2_4760_11ea_8767_7c04d0d0d02erow7_col1 {\n",
       "            background-color:  #b1c9e1;\n",
       "            color:  #000000;\n",
       "        }    #T_97dbc1d2_4760_11ea_8767_7c04d0d0d02erow7_col2 {\n",
       "            background-color:  #a0bddb;\n",
       "            color:  #000000;\n",
       "        }    #T_97dbc1d2_4760_11ea_8767_7c04d0d0d02erow7_col3 {\n",
       "            background-color:  #aec7e0;\n",
       "            color:  #000000;\n",
       "        }    #T_97dbc1d2_4760_11ea_8767_7c04d0d0d02erow7_col4 {\n",
       "            background-color:  #aac4de;\n",
       "            color:  #000000;\n",
       "        }    #T_97dbc1d2_4760_11ea_8767_7c04d0d0d02erow7_col5 {\n",
       "            background-color:  #a3bfdc;\n",
       "            color:  #000000;\n",
       "        }    #T_97dbc1d2_4760_11ea_8767_7c04d0d0d02erow7_col6 {\n",
       "            background-color:  #dbe8f2;\n",
       "            color:  #000000;\n",
       "        }    #T_97dbc1d2_4760_11ea_8767_7c04d0d0d02erow7_col7 {\n",
       "            background-color:  #4d004b;\n",
       "            color:  #f1f1f1;\n",
       "        }    #T_97dbc1d2_4760_11ea_8767_7c04d0d0d02erow7_col8 {\n",
       "            background-color:  #f3f9fc;\n",
       "            color:  #000000;\n",
       "        }    #T_97dbc1d2_4760_11ea_8767_7c04d0d0d02erow7_col9 {\n",
       "            background-color:  #f6fbfd;\n",
       "            color:  #000000;\n",
       "        }    #T_97dbc1d2_4760_11ea_8767_7c04d0d0d02erow7_col10 {\n",
       "            background-color:  #f6fbfc;\n",
       "            color:  #000000;\n",
       "        }    #T_97dbc1d2_4760_11ea_8767_7c04d0d0d02erow7_col11 {\n",
       "            background-color:  #f7fcfd;\n",
       "            color:  #000000;\n",
       "        }    #T_97dbc1d2_4760_11ea_8767_7c04d0d0d02erow8_col0 {\n",
       "            background-color:  #bed2e6;\n",
       "            color:  #000000;\n",
       "        }    #T_97dbc1d2_4760_11ea_8767_7c04d0d0d02erow8_col1 {\n",
       "            background-color:  #b0c9e1;\n",
       "            color:  #000000;\n",
       "        }    #T_97dbc1d2_4760_11ea_8767_7c04d0d0d02erow8_col2 {\n",
       "            background-color:  #a7c2dd;\n",
       "            color:  #000000;\n",
       "        }    #T_97dbc1d2_4760_11ea_8767_7c04d0d0d02erow8_col3 {\n",
       "            background-color:  #a9c4de;\n",
       "            color:  #000000;\n",
       "        }    #T_97dbc1d2_4760_11ea_8767_7c04d0d0d02erow8_col4 {\n",
       "            background-color:  #b2cae1;\n",
       "            color:  #000000;\n",
       "        }    #T_97dbc1d2_4760_11ea_8767_7c04d0d0d02erow8_col5 {\n",
       "            background-color:  #aec7e0;\n",
       "            color:  #000000;\n",
       "        }    #T_97dbc1d2_4760_11ea_8767_7c04d0d0d02erow8_col6 {\n",
       "            background-color:  #cedfec;\n",
       "            color:  #000000;\n",
       "        }    #T_97dbc1d2_4760_11ea_8767_7c04d0d0d02erow8_col7 {\n",
       "            background-color:  #e9f2f8;\n",
       "            color:  #000000;\n",
       "        }    #T_97dbc1d2_4760_11ea_8767_7c04d0d0d02erow8_col8 {\n",
       "            background-color:  #4d004b;\n",
       "            color:  #f1f1f1;\n",
       "        }    #T_97dbc1d2_4760_11ea_8767_7c04d0d0d02erow8_col9 {\n",
       "            background-color:  #f5fafc;\n",
       "            color:  #000000;\n",
       "        }    #T_97dbc1d2_4760_11ea_8767_7c04d0d0d02erow8_col10 {\n",
       "            background-color:  #f5fafc;\n",
       "            color:  #000000;\n",
       "        }    #T_97dbc1d2_4760_11ea_8767_7c04d0d0d02erow8_col11 {\n",
       "            background-color:  #f2f8fb;\n",
       "            color:  #000000;\n",
       "        }    #T_97dbc1d2_4760_11ea_8767_7c04d0d0d02erow9_col0 {\n",
       "            background-color:  #d2e2ee;\n",
       "            color:  #000000;\n",
       "        }    #T_97dbc1d2_4760_11ea_8767_7c04d0d0d02erow9_col1 {\n",
       "            background-color:  #b0c9e1;\n",
       "            color:  #000000;\n",
       "        }    #T_97dbc1d2_4760_11ea_8767_7c04d0d0d02erow9_col2 {\n",
       "            background-color:  #9cb8d8;\n",
       "            color:  #000000;\n",
       "        }    #T_97dbc1d2_4760_11ea_8767_7c04d0d0d02erow9_col3 {\n",
       "            background-color:  #a7c2dd;\n",
       "            color:  #000000;\n",
       "        }    #T_97dbc1d2_4760_11ea_8767_7c04d0d0d02erow9_col4 {\n",
       "            background-color:  #a4c0dc;\n",
       "            color:  #000000;\n",
       "        }    #T_97dbc1d2_4760_11ea_8767_7c04d0d0d02erow9_col5 {\n",
       "            background-color:  #a1bedb;\n",
       "            color:  #000000;\n",
       "        }    #T_97dbc1d2_4760_11ea_8767_7c04d0d0d02erow9_col6 {\n",
       "            background-color:  #ccddec;\n",
       "            color:  #000000;\n",
       "        }    #T_97dbc1d2_4760_11ea_8767_7c04d0d0d02erow9_col7 {\n",
       "            background-color:  #ebf3f8;\n",
       "            color:  #000000;\n",
       "        }    #T_97dbc1d2_4760_11ea_8767_7c04d0d0d02erow9_col8 {\n",
       "            background-color:  #f4fafc;\n",
       "            color:  #000000;\n",
       "        }    #T_97dbc1d2_4760_11ea_8767_7c04d0d0d02erow9_col9 {\n",
       "            background-color:  #4d004b;\n",
       "            color:  #f1f1f1;\n",
       "        }    #T_97dbc1d2_4760_11ea_8767_7c04d0d0d02erow9_col10 {\n",
       "            background-color:  #f0f7fa;\n",
       "            color:  #000000;\n",
       "        }    #T_97dbc1d2_4760_11ea_8767_7c04d0d0d02erow9_col11 {\n",
       "            background-color:  #f0f7fa;\n",
       "            color:  #000000;\n",
       "        }    #T_97dbc1d2_4760_11ea_8767_7c04d0d0d02erow10_col0 {\n",
       "            background-color:  #c3d6e8;\n",
       "            color:  #000000;\n",
       "        }    #T_97dbc1d2_4760_11ea_8767_7c04d0d0d02erow10_col1 {\n",
       "            background-color:  #abc5df;\n",
       "            color:  #000000;\n",
       "        }    #T_97dbc1d2_4760_11ea_8767_7c04d0d0d02erow10_col2 {\n",
       "            background-color:  #abc5df;\n",
       "            color:  #000000;\n",
       "        }    #T_97dbc1d2_4760_11ea_8767_7c04d0d0d02erow10_col3 {\n",
       "            background-color:  #abc5df;\n",
       "            color:  #000000;\n",
       "        }    #T_97dbc1d2_4760_11ea_8767_7c04d0d0d02erow10_col4 {\n",
       "            background-color:  #b6cde3;\n",
       "            color:  #000000;\n",
       "        }    #T_97dbc1d2_4760_11ea_8767_7c04d0d0d02erow10_col5 {\n",
       "            background-color:  #b3cbe2;\n",
       "            color:  #000000;\n",
       "        }    #T_97dbc1d2_4760_11ea_8767_7c04d0d0d02erow10_col6 {\n",
       "            background-color:  #c6d8e9;\n",
       "            color:  #000000;\n",
       "        }    #T_97dbc1d2_4760_11ea_8767_7c04d0d0d02erow10_col7 {\n",
       "            background-color:  #edf5f9;\n",
       "            color:  #000000;\n",
       "        }    #T_97dbc1d2_4760_11ea_8767_7c04d0d0d02erow10_col8 {\n",
       "            background-color:  #f6fbfd;\n",
       "            color:  #000000;\n",
       "        }    #T_97dbc1d2_4760_11ea_8767_7c04d0d0d02erow10_col9 {\n",
       "            background-color:  #f2f8fb;\n",
       "            color:  #000000;\n",
       "        }    #T_97dbc1d2_4760_11ea_8767_7c04d0d0d02erow10_col10 {\n",
       "            background-color:  #4d004b;\n",
       "            color:  #f1f1f1;\n",
       "        }    #T_97dbc1d2_4760_11ea_8767_7c04d0d0d02erow10_col11 {\n",
       "            background-color:  #eef6fa;\n",
       "            color:  #000000;\n",
       "        }    #T_97dbc1d2_4760_11ea_8767_7c04d0d0d02erow11_col0 {\n",
       "            background-color:  #96acd2;\n",
       "            color:  #000000;\n",
       "        }    #T_97dbc1d2_4760_11ea_8767_7c04d0d0d02erow11_col1 {\n",
       "            background-color:  #adc7e0;\n",
       "            color:  #000000;\n",
       "        }    #T_97dbc1d2_4760_11ea_8767_7c04d0d0d02erow11_col2 {\n",
       "            background-color:  #a9c4de;\n",
       "            color:  #000000;\n",
       "        }    #T_97dbc1d2_4760_11ea_8767_7c04d0d0d02erow11_col3 {\n",
       "            background-color:  #a7c2dd;\n",
       "            color:  #000000;\n",
       "        }    #T_97dbc1d2_4760_11ea_8767_7c04d0d0d02erow11_col4 {\n",
       "            background-color:  #b4cce2;\n",
       "            color:  #000000;\n",
       "        }    #T_97dbc1d2_4760_11ea_8767_7c04d0d0d02erow11_col5 {\n",
       "            background-color:  #b0c9e1;\n",
       "            color:  #000000;\n",
       "        }    #T_97dbc1d2_4760_11ea_8767_7c04d0d0d02erow11_col6 {\n",
       "            background-color:  #cadbeb;\n",
       "            color:  #000000;\n",
       "        }    #T_97dbc1d2_4760_11ea_8767_7c04d0d0d02erow11_col7 {\n",
       "            background-color:  #f0f7fa;\n",
       "            color:  #000000;\n",
       "        }    #T_97dbc1d2_4760_11ea_8767_7c04d0d0d02erow11_col8 {\n",
       "            background-color:  #f5fafc;\n",
       "            color:  #000000;\n",
       "        }    #T_97dbc1d2_4760_11ea_8767_7c04d0d0d02erow11_col9 {\n",
       "            background-color:  #f3f9fc;\n",
       "            color:  #000000;\n",
       "        }    #T_97dbc1d2_4760_11ea_8767_7c04d0d0d02erow11_col10 {\n",
       "            background-color:  #eff6fa;\n",
       "            color:  #000000;\n",
       "        }    #T_97dbc1d2_4760_11ea_8767_7c04d0d0d02erow11_col11 {\n",
       "            background-color:  #4d004b;\n",
       "            color:  #f1f1f1;\n",
       "        }</style><table id=\"T_97dbc1d2_4760_11ea_8767_7c04d0d0d02e\" ><thead>    <tr>        <th class=\"blank level0\" ></th>        <th class=\"col_heading level0 col0\" >consumption</th>        <th class=\"col_heading level0 col1\" >visibility</th>        <th class=\"col_heading level0 col2\" >temperature</th>        <th class=\"col_heading level0 col3\" >humidity</th>        <th class=\"col_heading level0 col4\" >humidex</th>        <th class=\"col_heading level0 col5\" >windchill</th>        <th class=\"col_heading level0 col6\" >wind</th>        <th class=\"col_heading level0 col7\" >pressure</th>        <th class=\"col_heading level0 col8\" >washing_machine</th>        <th class=\"col_heading level0 col9\" >fridge_freezer</th>        <th class=\"col_heading level0 col10\" >TV</th>        <th class=\"col_heading level0 col11\" >kettle</th>    </tr></thead><tbody>\n",
       "                <tr>\n",
       "                        <th id=\"T_97dbc1d2_4760_11ea_8767_7c04d0d0d02elevel0_row0\" class=\"row_heading level0 row0\" >consumption</th>\n",
       "                        <td id=\"T_97dbc1d2_4760_11ea_8767_7c04d0d0d02erow0_col0\" class=\"data row0 col0\" >1</td>\n",
       "                        <td id=\"T_97dbc1d2_4760_11ea_8767_7c04d0d0d02erow0_col1\" class=\"data row0 col1\" >0.029</td>\n",
       "                        <td id=\"T_97dbc1d2_4760_11ea_8767_7c04d0d0d02erow0_col2\" class=\"data row0 col2\" >-0.056</td>\n",
       "                        <td id=\"T_97dbc1d2_4760_11ea_8767_7c04d0d0d02erow0_col3\" class=\"data row0 col3\" >0.0019</td>\n",
       "                        <td id=\"T_97dbc1d2_4760_11ea_8767_7c04d0d0d02erow0_col4\" class=\"data row0 col4\" >-0.061</td>\n",
       "                        <td id=\"T_97dbc1d2_4760_11ea_8767_7c04d0d0d02erow0_col5\" class=\"data row0 col5\" >-0.062</td>\n",
       "                        <td id=\"T_97dbc1d2_4760_11ea_8767_7c04d0d0d02erow0_col6\" class=\"data row0 col6\" >0.019</td>\n",
       "                        <td id=\"T_97dbc1d2_4760_11ea_8767_7c04d0d0d02erow0_col7\" class=\"data row0 col7\" >-0.068</td>\n",
       "                        <td id=\"T_97dbc1d2_4760_11ea_8767_7c04d0d0d02erow0_col8\" class=\"data row0 col8\" >0.21</td>\n",
       "                        <td id=\"T_97dbc1d2_4760_11ea_8767_7c04d0d0d02erow0_col9\" class=\"data row0 col9\" >0.12</td>\n",
       "                        <td id=\"T_97dbc1d2_4760_11ea_8767_7c04d0d0d02erow0_col10\" class=\"data row0 col10\" >0.18</td>\n",
       "                        <td id=\"T_97dbc1d2_4760_11ea_8767_7c04d0d0d02erow0_col11\" class=\"data row0 col11\" >0.39</td>\n",
       "            </tr>\n",
       "            <tr>\n",
       "                        <th id=\"T_97dbc1d2_4760_11ea_8767_7c04d0d0d02elevel0_row1\" class=\"row_heading level0 row1\" >visibility</th>\n",
       "                        <td id=\"T_97dbc1d2_4760_11ea_8767_7c04d0d0d02erow1_col0\" class=\"data row1 col0\" >0.029</td>\n",
       "                        <td id=\"T_97dbc1d2_4760_11ea_8767_7c04d0d0d02erow1_col1\" class=\"data row1 col1\" >1</td>\n",
       "                        <td id=\"T_97dbc1d2_4760_11ea_8767_7c04d0d0d02erow1_col2\" class=\"data row1 col2\" >0.019</td>\n",
       "                        <td id=\"T_97dbc1d2_4760_11ea_8767_7c04d0d0d02erow1_col3\" class=\"data row1 col3\" >-0.46</td>\n",
       "                        <td id=\"T_97dbc1d2_4760_11ea_8767_7c04d0d0d02erow1_col4\" class=\"data row1 col4\" >-0.029</td>\n",
       "                        <td id=\"T_97dbc1d2_4760_11ea_8767_7c04d0d0d02erow1_col5\" class=\"data row1 col5\" >-0.021</td>\n",
       "                        <td id=\"T_97dbc1d2_4760_11ea_8767_7c04d0d0d02erow1_col6\" class=\"data row1 col6\" >0.16</td>\n",
       "                        <td id=\"T_97dbc1d2_4760_11ea_8767_7c04d0d0d02erow1_col7\" class=\"data row1 col7\" >-0.016</td>\n",
       "                        <td id=\"T_97dbc1d2_4760_11ea_8767_7c04d0d0d02erow1_col8\" class=\"data row1 col8\" >-0.013</td>\n",
       "                        <td id=\"T_97dbc1d2_4760_11ea_8767_7c04d0d0d02erow1_col9\" class=\"data row1 col9\" >-0.012</td>\n",
       "                        <td id=\"T_97dbc1d2_4760_11ea_8767_7c04d0d0d02erow1_col10\" class=\"data row1 col10\" >0.013</td>\n",
       "                        <td id=\"T_97dbc1d2_4760_11ea_8767_7c04d0d0d02erow1_col11\" class=\"data row1 col11\" >0.0054</td>\n",
       "            </tr>\n",
       "            <tr>\n",
       "                        <th id=\"T_97dbc1d2_4760_11ea_8767_7c04d0d0d02elevel0_row2\" class=\"row_heading level0 row2\" >temperature</th>\n",
       "                        <td id=\"T_97dbc1d2_4760_11ea_8767_7c04d0d0d02erow2_col0\" class=\"data row2 col0\" >-0.056</td>\n",
       "                        <td id=\"T_97dbc1d2_4760_11ea_8767_7c04d0d0d02erow2_col1\" class=\"data row2 col1\" >0.019</td>\n",
       "                        <td id=\"T_97dbc1d2_4760_11ea_8767_7c04d0d0d02erow2_col2\" class=\"data row2 col2\" >1</td>\n",
       "                        <td id=\"T_97dbc1d2_4760_11ea_8767_7c04d0d0d02erow2_col3\" class=\"data row2 col3\" >-0.51</td>\n",
       "                        <td id=\"T_97dbc1d2_4760_11ea_8767_7c04d0d0d02erow2_col4\" class=\"data row2 col4\" >0.99</td>\n",
       "                        <td id=\"T_97dbc1d2_4760_11ea_8767_7c04d0d0d02erow2_col5\" class=\"data row2 col5\" >0.98</td>\n",
       "                        <td id=\"T_97dbc1d2_4760_11ea_8767_7c04d0d0d02erow2_col6\" class=\"data row2 col6\" >0.084</td>\n",
       "                        <td id=\"T_97dbc1d2_4760_11ea_8767_7c04d0d0d02erow2_col7\" class=\"data row2 col7\" >0.044</td>\n",
       "                        <td id=\"T_97dbc1d2_4760_11ea_8767_7c04d0d0d02erow2_col8\" class=\"data row2 col8\" >0.0021</td>\n",
       "                        <td id=\"T_97dbc1d2_4760_11ea_8767_7c04d0d0d02erow2_col9\" class=\"data row2 col9\" >0.072</td>\n",
       "                        <td id=\"T_97dbc1d2_4760_11ea_8767_7c04d0d0d02erow2_col10\" class=\"data row2 col10\" >-0.019</td>\n",
       "                        <td id=\"T_97dbc1d2_4760_11ea_8767_7c04d0d0d02erow2_col11\" class=\"data row2 col11\" >-0.0092</td>\n",
       "            </tr>\n",
       "            <tr>\n",
       "                        <th id=\"T_97dbc1d2_4760_11ea_8767_7c04d0d0d02elevel0_row3\" class=\"row_heading level0 row3\" >humidity</th>\n",
       "                        <td id=\"T_97dbc1d2_4760_11ea_8767_7c04d0d0d02erow3_col0\" class=\"data row3 col0\" >0.0019</td>\n",
       "                        <td id=\"T_97dbc1d2_4760_11ea_8767_7c04d0d0d02erow3_col1\" class=\"data row3 col1\" >-0.46</td>\n",
       "                        <td id=\"T_97dbc1d2_4760_11ea_8767_7c04d0d0d02erow3_col2\" class=\"data row3 col2\" >-0.51</td>\n",
       "                        <td id=\"T_97dbc1d2_4760_11ea_8767_7c04d0d0d02erow3_col3\" class=\"data row3 col3\" >1</td>\n",
       "                        <td id=\"T_97dbc1d2_4760_11ea_8767_7c04d0d0d02erow3_col4\" class=\"data row3 col4\" >-0.42</td>\n",
       "                        <td id=\"T_97dbc1d2_4760_11ea_8767_7c04d0d0d02erow3_col5\" class=\"data row3 col5\" >-0.46</td>\n",
       "                        <td id=\"T_97dbc1d2_4760_11ea_8767_7c04d0d0d02erow3_col6\" class=\"data row3 col6\" >-0.26</td>\n",
       "                        <td id=\"T_97dbc1d2_4760_11ea_8767_7c04d0d0d02erow3_col7\" class=\"data row3 col7\" >-0.04</td>\n",
       "                        <td id=\"T_97dbc1d2_4760_11ea_8767_7c04d0d0d02erow3_col8\" class=\"data row3 col8\" >-0.0097</td>\n",
       "                        <td id=\"T_97dbc1d2_4760_11ea_8767_7c04d0d0d02erow3_col9\" class=\"data row3 col9\" >0.00083</td>\n",
       "                        <td id=\"T_97dbc1d2_4760_11ea_8767_7c04d0d0d02erow3_col10\" class=\"data row3 col10\" >-0.02</td>\n",
       "                        <td id=\"T_97dbc1d2_4760_11ea_8767_7c04d0d0d02erow3_col11\" class=\"data row3 col11\" >0.00097</td>\n",
       "            </tr>\n",
       "            <tr>\n",
       "                        <th id=\"T_97dbc1d2_4760_11ea_8767_7c04d0d0d02elevel0_row4\" class=\"row_heading level0 row4\" >humidex</th>\n",
       "                        <td id=\"T_97dbc1d2_4760_11ea_8767_7c04d0d0d02erow4_col0\" class=\"data row4 col0\" >-0.061</td>\n",
       "                        <td id=\"T_97dbc1d2_4760_11ea_8767_7c04d0d0d02erow4_col1\" class=\"data row4 col1\" >-0.029</td>\n",
       "                        <td id=\"T_97dbc1d2_4760_11ea_8767_7c04d0d0d02erow4_col2\" class=\"data row4 col2\" >0.99</td>\n",
       "                        <td id=\"T_97dbc1d2_4760_11ea_8767_7c04d0d0d02erow4_col3\" class=\"data row4 col3\" >-0.42</td>\n",
       "                        <td id=\"T_97dbc1d2_4760_11ea_8767_7c04d0d0d02erow4_col4\" class=\"data row4 col4\" >1</td>\n",
       "                        <td id=\"T_97dbc1d2_4760_11ea_8767_7c04d0d0d02erow4_col5\" class=\"data row4 col5\" >0.97</td>\n",
       "                        <td id=\"T_97dbc1d2_4760_11ea_8767_7c04d0d0d02erow4_col6\" class=\"data row4 col6\" >0.058</td>\n",
       "                        <td id=\"T_97dbc1d2_4760_11ea_8767_7c04d0d0d02erow4_col7\" class=\"data row4 col7\" >0.045</td>\n",
       "                        <td id=\"T_97dbc1d2_4760_11ea_8767_7c04d0d0d02erow4_col8\" class=\"data row4 col8\" >0.00059</td>\n",
       "                        <td id=\"T_97dbc1d2_4760_11ea_8767_7c04d0d0d02erow4_col9\" class=\"data row4 col9\" >0.079</td>\n",
       "                        <td id=\"T_97dbc1d2_4760_11ea_8767_7c04d0d0d02erow4_col10\" class=\"data row4 col10\" >-0.02</td>\n",
       "                        <td id=\"T_97dbc1d2_4760_11ea_8767_7c04d0d0d02erow4_col11\" class=\"data row4 col11\" >-0.011</td>\n",
       "            </tr>\n",
       "            <tr>\n",
       "                        <th id=\"T_97dbc1d2_4760_11ea_8767_7c04d0d0d02elevel0_row5\" class=\"row_heading level0 row5\" >windchill</th>\n",
       "                        <td id=\"T_97dbc1d2_4760_11ea_8767_7c04d0d0d02erow5_col0\" class=\"data row5 col0\" >-0.062</td>\n",
       "                        <td id=\"T_97dbc1d2_4760_11ea_8767_7c04d0d0d02erow5_col1\" class=\"data row5 col1\" >-0.021</td>\n",
       "                        <td id=\"T_97dbc1d2_4760_11ea_8767_7c04d0d0d02erow5_col2\" class=\"data row5 col2\" >0.98</td>\n",
       "                        <td id=\"T_97dbc1d2_4760_11ea_8767_7c04d0d0d02erow5_col3\" class=\"data row5 col3\" >-0.46</td>\n",
       "                        <td id=\"T_97dbc1d2_4760_11ea_8767_7c04d0d0d02erow5_col4\" class=\"data row5 col4\" >0.97</td>\n",
       "                        <td id=\"T_97dbc1d2_4760_11ea_8767_7c04d0d0d02erow5_col5\" class=\"data row5 col5\" >1</td>\n",
       "                        <td id=\"T_97dbc1d2_4760_11ea_8767_7c04d0d0d02erow5_col6\" class=\"data row5 col6\" >-0.1</td>\n",
       "                        <td id=\"T_97dbc1d2_4760_11ea_8767_7c04d0d0d02erow5_col7\" class=\"data row5 col7\" >0.061</td>\n",
       "                        <td id=\"T_97dbc1d2_4760_11ea_8767_7c04d0d0d02erow5_col8\" class=\"data row5 col8\" >0.0036</td>\n",
       "                        <td id=\"T_97dbc1d2_4760_11ea_8767_7c04d0d0d02erow5_col9\" class=\"data row5 col9\" >0.074</td>\n",
       "                        <td id=\"T_97dbc1d2_4760_11ea_8767_7c04d0d0d02erow5_col10\" class=\"data row5 col10\" >-0.025</td>\n",
       "                        <td id=\"T_97dbc1d2_4760_11ea_8767_7c04d0d0d02erow5_col11\" class=\"data row5 col11\" >-0.01</td>\n",
       "            </tr>\n",
       "            <tr>\n",
       "                        <th id=\"T_97dbc1d2_4760_11ea_8767_7c04d0d0d02elevel0_row6\" class=\"row_heading level0 row6\" >wind</th>\n",
       "                        <td id=\"T_97dbc1d2_4760_11ea_8767_7c04d0d0d02erow6_col0\" class=\"data row6 col0\" >0.019</td>\n",
       "                        <td id=\"T_97dbc1d2_4760_11ea_8767_7c04d0d0d02erow6_col1\" class=\"data row6 col1\" >0.16</td>\n",
       "                        <td id=\"T_97dbc1d2_4760_11ea_8767_7c04d0d0d02erow6_col2\" class=\"data row6 col2\" >0.084</td>\n",
       "                        <td id=\"T_97dbc1d2_4760_11ea_8767_7c04d0d0d02erow6_col3\" class=\"data row6 col3\" >-0.26</td>\n",
       "                        <td id=\"T_97dbc1d2_4760_11ea_8767_7c04d0d0d02erow6_col4\" class=\"data row6 col4\" >0.058</td>\n",
       "                        <td id=\"T_97dbc1d2_4760_11ea_8767_7c04d0d0d02erow6_col5\" class=\"data row6 col5\" >-0.1</td>\n",
       "                        <td id=\"T_97dbc1d2_4760_11ea_8767_7c04d0d0d02erow6_col6\" class=\"data row6 col6\" >1</td>\n",
       "                        <td id=\"T_97dbc1d2_4760_11ea_8767_7c04d0d0d02erow6_col7\" class=\"data row6 col7\" >-0.078</td>\n",
       "                        <td id=\"T_97dbc1d2_4760_11ea_8767_7c04d0d0d02erow6_col8\" class=\"data row6 col8\" >-0.017</td>\n",
       "                        <td id=\"T_97dbc1d2_4760_11ea_8767_7c04d0d0d02erow6_col9\" class=\"data row6 col9\" >-0.0084</td>\n",
       "                        <td id=\"T_97dbc1d2_4760_11ea_8767_7c04d0d0d02erow6_col10\" class=\"data row6 col10\" >0.021</td>\n",
       "                        <td id=\"T_97dbc1d2_4760_11ea_8767_7c04d0d0d02erow6_col11\" class=\"data row6 col11\" >0.002</td>\n",
       "            </tr>\n",
       "            <tr>\n",
       "                        <th id=\"T_97dbc1d2_4760_11ea_8767_7c04d0d0d02elevel0_row7\" class=\"row_heading level0 row7\" >pressure</th>\n",
       "                        <td id=\"T_97dbc1d2_4760_11ea_8767_7c04d0d0d02erow7_col0\" class=\"data row7 col0\" >-0.068</td>\n",
       "                        <td id=\"T_97dbc1d2_4760_11ea_8767_7c04d0d0d02erow7_col1\" class=\"data row7 col1\" >-0.016</td>\n",
       "                        <td id=\"T_97dbc1d2_4760_11ea_8767_7c04d0d0d02erow7_col2\" class=\"data row7 col2\" >0.044</td>\n",
       "                        <td id=\"T_97dbc1d2_4760_11ea_8767_7c04d0d0d02erow7_col3\" class=\"data row7 col3\" >-0.04</td>\n",
       "                        <td id=\"T_97dbc1d2_4760_11ea_8767_7c04d0d0d02erow7_col4\" class=\"data row7 col4\" >0.045</td>\n",
       "                        <td id=\"T_97dbc1d2_4760_11ea_8767_7c04d0d0d02erow7_col5\" class=\"data row7 col5\" >0.061</td>\n",
       "                        <td id=\"T_97dbc1d2_4760_11ea_8767_7c04d0d0d02erow7_col6\" class=\"data row7 col6\" >-0.078</td>\n",
       "                        <td id=\"T_97dbc1d2_4760_11ea_8767_7c04d0d0d02erow7_col7\" class=\"data row7 col7\" >1</td>\n",
       "                        <td id=\"T_97dbc1d2_4760_11ea_8767_7c04d0d0d02erow7_col8\" class=\"data row7 col8\" >0.0038</td>\n",
       "                        <td id=\"T_97dbc1d2_4760_11ea_8767_7c04d0d0d02erow7_col9\" class=\"data row7 col9\" >-0.0041</td>\n",
       "                        <td id=\"T_97dbc1d2_4760_11ea_8767_7c04d0d0d02erow7_col10\" class=\"data row7 col10\" >-0.015</td>\n",
       "                        <td id=\"T_97dbc1d2_4760_11ea_8767_7c04d0d0d02erow7_col11\" class=\"data row7 col11\" >-0.033</td>\n",
       "            </tr>\n",
       "            <tr>\n",
       "                        <th id=\"T_97dbc1d2_4760_11ea_8767_7c04d0d0d02elevel0_row8\" class=\"row_heading level0 row8\" >washing_machine</th>\n",
       "                        <td id=\"T_97dbc1d2_4760_11ea_8767_7c04d0d0d02erow8_col0\" class=\"data row8 col0\" >0.21</td>\n",
       "                        <td id=\"T_97dbc1d2_4760_11ea_8767_7c04d0d0d02erow8_col1\" class=\"data row8 col1\" >-0.013</td>\n",
       "                        <td id=\"T_97dbc1d2_4760_11ea_8767_7c04d0d0d02erow8_col2\" class=\"data row8 col2\" >0.0021</td>\n",
       "                        <td id=\"T_97dbc1d2_4760_11ea_8767_7c04d0d0d02erow8_col3\" class=\"data row8 col3\" >-0.0097</td>\n",
       "                        <td id=\"T_97dbc1d2_4760_11ea_8767_7c04d0d0d02erow8_col4\" class=\"data row8 col4\" >0.00059</td>\n",
       "                        <td id=\"T_97dbc1d2_4760_11ea_8767_7c04d0d0d02erow8_col5\" class=\"data row8 col5\" >0.0036</td>\n",
       "                        <td id=\"T_97dbc1d2_4760_11ea_8767_7c04d0d0d02erow8_col6\" class=\"data row8 col6\" >-0.017</td>\n",
       "                        <td id=\"T_97dbc1d2_4760_11ea_8767_7c04d0d0d02erow8_col7\" class=\"data row8 col7\" >0.0038</td>\n",
       "                        <td id=\"T_97dbc1d2_4760_11ea_8767_7c04d0d0d02erow8_col8\" class=\"data row8 col8\" >1</td>\n",
       "                        <td id=\"T_97dbc1d2_4760_11ea_8767_7c04d0d0d02erow8_col9\" class=\"data row8 col9\" >0.0021</td>\n",
       "                        <td id=\"T_97dbc1d2_4760_11ea_8767_7c04d0d0d02erow8_col10\" class=\"data row8 col10\" >-0.012</td>\n",
       "                        <td id=\"T_97dbc1d2_4760_11ea_8767_7c04d0d0d02erow8_col11\" class=\"data row8 col11\" >-0.0022</td>\n",
       "            </tr>\n",
       "            <tr>\n",
       "                        <th id=\"T_97dbc1d2_4760_11ea_8767_7c04d0d0d02elevel0_row9\" class=\"row_heading level0 row9\" >fridge_freezer</th>\n",
       "                        <td id=\"T_97dbc1d2_4760_11ea_8767_7c04d0d0d02erow9_col0\" class=\"data row9 col0\" >0.12</td>\n",
       "                        <td id=\"T_97dbc1d2_4760_11ea_8767_7c04d0d0d02erow9_col1\" class=\"data row9 col1\" >-0.012</td>\n",
       "                        <td id=\"T_97dbc1d2_4760_11ea_8767_7c04d0d0d02erow9_col2\" class=\"data row9 col2\" >0.072</td>\n",
       "                        <td id=\"T_97dbc1d2_4760_11ea_8767_7c04d0d0d02erow9_col3\" class=\"data row9 col3\" >0.00083</td>\n",
       "                        <td id=\"T_97dbc1d2_4760_11ea_8767_7c04d0d0d02erow9_col4\" class=\"data row9 col4\" >0.079</td>\n",
       "                        <td id=\"T_97dbc1d2_4760_11ea_8767_7c04d0d0d02erow9_col5\" class=\"data row9 col5\" >0.074</td>\n",
       "                        <td id=\"T_97dbc1d2_4760_11ea_8767_7c04d0d0d02erow9_col6\" class=\"data row9 col6\" >-0.0084</td>\n",
       "                        <td id=\"T_97dbc1d2_4760_11ea_8767_7c04d0d0d02erow9_col7\" class=\"data row9 col7\" >-0.0041</td>\n",
       "                        <td id=\"T_97dbc1d2_4760_11ea_8767_7c04d0d0d02erow9_col8\" class=\"data row9 col8\" >0.0021</td>\n",
       "                        <td id=\"T_97dbc1d2_4760_11ea_8767_7c04d0d0d02erow9_col9\" class=\"data row9 col9\" >1</td>\n",
       "                        <td id=\"T_97dbc1d2_4760_11ea_8767_7c04d0d0d02erow9_col10\" class=\"data row9 col10\" >0.017</td>\n",
       "                        <td id=\"T_97dbc1d2_4760_11ea_8767_7c04d0d0d02erow9_col11\" class=\"data row9 col11\" >0.01</td>\n",
       "            </tr>\n",
       "            <tr>\n",
       "                        <th id=\"T_97dbc1d2_4760_11ea_8767_7c04d0d0d02elevel0_row10\" class=\"row_heading level0 row10\" >TV</th>\n",
       "                        <td id=\"T_97dbc1d2_4760_11ea_8767_7c04d0d0d02erow10_col0\" class=\"data row10 col0\" >0.18</td>\n",
       "                        <td id=\"T_97dbc1d2_4760_11ea_8767_7c04d0d0d02erow10_col1\" class=\"data row10 col1\" >0.013</td>\n",
       "                        <td id=\"T_97dbc1d2_4760_11ea_8767_7c04d0d0d02erow10_col2\" class=\"data row10 col2\" >-0.019</td>\n",
       "                        <td id=\"T_97dbc1d2_4760_11ea_8767_7c04d0d0d02erow10_col3\" class=\"data row10 col3\" >-0.02</td>\n",
       "                        <td id=\"T_97dbc1d2_4760_11ea_8767_7c04d0d0d02erow10_col4\" class=\"data row10 col4\" >-0.02</td>\n",
       "                        <td id=\"T_97dbc1d2_4760_11ea_8767_7c04d0d0d02erow10_col5\" class=\"data row10 col5\" >-0.025</td>\n",
       "                        <td id=\"T_97dbc1d2_4760_11ea_8767_7c04d0d0d02erow10_col6\" class=\"data row10 col6\" >0.021</td>\n",
       "                        <td id=\"T_97dbc1d2_4760_11ea_8767_7c04d0d0d02erow10_col7\" class=\"data row10 col7\" >-0.015</td>\n",
       "                        <td id=\"T_97dbc1d2_4760_11ea_8767_7c04d0d0d02erow10_col8\" class=\"data row10 col8\" >-0.012</td>\n",
       "                        <td id=\"T_97dbc1d2_4760_11ea_8767_7c04d0d0d02erow10_col9\" class=\"data row10 col9\" >0.017</td>\n",
       "                        <td id=\"T_97dbc1d2_4760_11ea_8767_7c04d0d0d02erow10_col10\" class=\"data row10 col10\" >1</td>\n",
       "                        <td id=\"T_97dbc1d2_4760_11ea_8767_7c04d0d0d02erow10_col11\" class=\"data row10 col11\" >0.019</td>\n",
       "            </tr>\n",
       "            <tr>\n",
       "                        <th id=\"T_97dbc1d2_4760_11ea_8767_7c04d0d0d02elevel0_row11\" class=\"row_heading level0 row11\" >kettle</th>\n",
       "                        <td id=\"T_97dbc1d2_4760_11ea_8767_7c04d0d0d02erow11_col0\" class=\"data row11 col0\" >0.39</td>\n",
       "                        <td id=\"T_97dbc1d2_4760_11ea_8767_7c04d0d0d02erow11_col1\" class=\"data row11 col1\" >0.0054</td>\n",
       "                        <td id=\"T_97dbc1d2_4760_11ea_8767_7c04d0d0d02erow11_col2\" class=\"data row11 col2\" >-0.0092</td>\n",
       "                        <td id=\"T_97dbc1d2_4760_11ea_8767_7c04d0d0d02erow11_col3\" class=\"data row11 col3\" >0.00097</td>\n",
       "                        <td id=\"T_97dbc1d2_4760_11ea_8767_7c04d0d0d02erow11_col4\" class=\"data row11 col4\" >-0.011</td>\n",
       "                        <td id=\"T_97dbc1d2_4760_11ea_8767_7c04d0d0d02erow11_col5\" class=\"data row11 col5\" >-0.01</td>\n",
       "                        <td id=\"T_97dbc1d2_4760_11ea_8767_7c04d0d0d02erow11_col6\" class=\"data row11 col6\" >0.002</td>\n",
       "                        <td id=\"T_97dbc1d2_4760_11ea_8767_7c04d0d0d02erow11_col7\" class=\"data row11 col7\" >-0.033</td>\n",
       "                        <td id=\"T_97dbc1d2_4760_11ea_8767_7c04d0d0d02erow11_col8\" class=\"data row11 col8\" >-0.0022</td>\n",
       "                        <td id=\"T_97dbc1d2_4760_11ea_8767_7c04d0d0d02erow11_col9\" class=\"data row11 col9\" >0.01</td>\n",
       "                        <td id=\"T_97dbc1d2_4760_11ea_8767_7c04d0d0d02erow11_col10\" class=\"data row11 col10\" >0.019</td>\n",
       "                        <td id=\"T_97dbc1d2_4760_11ea_8767_7c04d0d0d02erow11_col11\" class=\"data row11 col11\" >1</td>\n",
       "            </tr>\n",
       "    </tbody></table>"
      ],
      "text/plain": [
       "<pandas.io.formats.style.Styler at 0x12288f438>"
      ]
     },
     "execution_count": 86,
     "metadata": {},
     "output_type": "execute_result"
    }
   ],
   "source": [
    "# Dropping unnamed since the NaNs created errors in the correlation matrix\n",
    "corr_matrix = data.drop(columns={\"Unnamed: 9\"}).corr()\n",
    "corr_matrix.style.background_gradient(cmap='BuPu').set_precision(2)"
   ]
  },
  {
   "cell_type": "markdown",
   "metadata": {},
   "source": [
    "It would seem that our intuition is confirmed: the highest correlations with our output {washing_machine, fridge_freezer, TV, kettle} is for consumption.  \n",
    "Other variables are only lightly correlated to our output, but our correlation matrix does not take interactions into account so we will have to study this.  \n",
    "Note that as we could expect from the way windchill is constructed, temperature, humidex and windchill are in fact very highly correlated: we might not need all those variables as predictors, and another way of filling missing values is to fit a linear model on one of the variables to predict the others when possible."
   ]
  },
  {
   "cell_type": "code",
   "execution_count": 73,
   "metadata": {},
   "outputs": [
    {
     "data": {
      "text/plain": [
       "consumption        1.000000\n",
       "kettle             0.388482\n",
       "washing_machine    0.206889\n",
       "TV                 0.183381\n",
       "fridge_freezer     0.119655\n",
       "visibility         0.028942\n",
       "wind               0.018537\n",
       "humidity           0.001947\n",
       "temperature       -0.056331\n",
       "humidex           -0.061327\n",
       "windchill         -0.061684\n",
       "pressure          -0.068219\n",
       "Name: consumption, dtype: float64"
      ]
     },
     "execution_count": 73,
     "metadata": {},
     "output_type": "execute_result"
    }
   ],
   "source": [
    "corr_matrix[\"consumption\"].sort_values(ascending=False)"
   ]
  },
  {
   "cell_type": "markdown",
   "metadata": {},
   "source": [
    "Simply visualising the correlation of our outputs to the predictor 'consumption'."
   ]
  },
  {
   "cell_type": "code",
   "execution_count": 133,
   "metadata": {},
   "outputs": [
    {
     "data": {
      "text/plain": [
       "166.0    3399\n",
       "152.0    2436\n",
       "138.0    1529\n",
       "145.0    1280\n",
       "159.0    1278\n",
       "156.0     717\n",
       "153.0     715\n",
       "155.0     713\n",
       "160.0     691\n",
       "157.0     675\n",
       "154.0     657\n",
       "158.0     603\n",
       "162.0     529\n",
       "151.0     521\n",
       "161.0     515\n",
       "163.0     510\n",
       "164.0     494\n",
       "159.5     480\n",
       "147.0     471\n",
       "165.0     453\n",
       "153.5     447\n",
       "144.0     444\n",
       "152.5     444\n",
       "167.0     439\n",
       "149.0     438\n",
       "172.0     434\n",
       "150.0     431\n",
       "155.5     430\n",
       "148.0     428\n",
       "154.5     425\n",
       "158.5     423\n",
       "173.0     412\n",
       "142.0     407\n",
       "156.5     407\n",
       "157.5     406\n",
       "Name: consumption, dtype: int64"
      ]
     },
     "execution_count": 133,
     "metadata": {},
     "output_type": "execute_result"
    }
   ],
   "source": [
    "# Consumption data is very fragmented (the most frequent value represents only 0.8% of the datapoints) \n",
    "# It presents a wide range of values: [166,2326]\n",
    "data[\"consumption\"].value_counts()[data[\"consumption\"].value_counts()>400]"
   ]
  },
  {
   "cell_type": "markdown",
   "metadata": {},
   "source": [
    "We find most values within the [150,165] range."
   ]
  },
  {
   "cell_type": "code",
   "execution_count": 110,
   "metadata": {},
   "outputs": [
    {
     "data": {
      "text/plain": [
       "<matplotlib.axes._subplots.AxesSubplot at 0x1301d1978>"
      ]
     },
     "execution_count": 110,
     "metadata": {},
     "output_type": "execute_result"
    },
    {
     "data": {
      "image/png": "[encoded data removed]",
      "text/plain": [
       "<Figure size 360x360 with 1 Axes>"
      ]
     },
     "metadata": {
      "needs_background": "light"
     },
     "output_type": "display_data"
    }
   ],
   "source": [
    "# A very large majority of values are located within the [0,500] range\n",
    "data[\"consumption\"].hist(bins=50, figsize=(5,5))"
   ]
  },
  {
   "cell_type": "markdown",
   "metadata": {},
   "source": [
    "##### Humidex, temperature, windchill: confirm or infirm normality"
   ]
  },
  {
   "cell_type": "markdown",
   "metadata": {},
   "source": [
    "Given the extremely high correlations we found between these three variables, we also expect their distributions to be quite similar at least in shape."
   ]
  },
  {
   "cell_type": "code",
   "execution_count": 49,
   "metadata": {},
   "outputs": [
    {
     "name": "stdout",
     "output_type": "stream",
     "text": [
      "11.8 5.5\n"
     ]
    },
    {
     "data": {
      "image/png": "[encoded data removed]",
      "text/plain": [
       "<Figure size 432x288 with 1 Axes>"
      ]
     },
     "metadata": {
      "needs_background": "light"
     },
     "output_type": "display_data"
    }
   ],
   "source": [
    "print(\"%.2f\"%np.nanmean(data[\"humidex\"]), \"%.2f\"%np.nanstd(data[\"humidex\"]))\n",
    "sns_plot = sns.distplot(data.loc[:,\"humidex\"], hist=True, kde=True, \n",
    "             bins=int(180/5), color = 'darkblue', \n",
    "             hist_kws={'edgecolor':'black'},\n",
    "             kde_kws={'linewidth': 4})\n",
    "fig = sns_plot.get_figure()"
   ]
  },
  {
   "cell_type": "code",
   "execution_count": 50,
   "metadata": {},
   "outputs": [
    {
     "name": "stdout",
     "output_type": "stream",
     "text": [
      "10.89 4.69\n"
     ]
    },
    {
     "data": {
      "image/png": "[encoded data removed]",
      "text/plain": [
       "<Figure size 432x288 with 1 Axes>"
      ]
     },
     "metadata": {
      "needs_background": "light"
     },
     "output_type": "display_data"
    }
   ],
   "source": [
    "print(\"%.2f\"%np.nanmean(data[\"temperature\"]), \"%.2f\"%np.nanstd(data[\"temperature\"]))\n",
    "sns_plot = sns.distplot(data.loc[:,\"temperature\"], hist=True, kde=True, \n",
    "             bins=int(180/5), color = 'darkblue', \n",
    "             hist_kws={'edgecolor':'black'},\n",
    "             kde_kws={'linewidth': 4})\n",
    "fig = sns_plot.get_figure()"
   ]
  },
  {
   "cell_type": "code",
   "execution_count": 51,
   "metadata": {},
   "outputs": [
    {
     "name": "stdout",
     "output_type": "stream",
     "text": [
      "9.37 5.43\n"
     ]
    },
    {
     "data": {
      "image/png": "[encoded data removed]",
      "text/plain": [
       "<Figure size 432x288 with 1 Axes>"
      ]
     },
     "metadata": {
      "needs_background": "light"
     },
     "output_type": "display_data"
    }
   ],
   "source": [
    "print(\"%.2f\"%np.nanmean(data[\"windchill\"]), \"%.2f\"%np.nanstd(data[\"windchill\"]))\n",
    "sns_plot = sns.distplot(data.loc[:,\"windchill\"], hist=True, kde=True, \n",
    "             bins=int(180/5), color = 'darkblue', \n",
    "             hist_kws={'edgecolor':'black'},\n",
    "             kde_kws={'linewidth': 4})\n",
    "fig = sns_plot.get_figure()"
   ]
  },
  {
   "cell_type": "markdown",
   "metadata": {},
   "source": [
    "#### Investigating wind and humidity together"
   ]
  },
  {
   "cell_type": "code",
   "execution_count": 112,
   "metadata": {},
   "outputs": [
    {
     "data": {
      "image/png": "[encoded data removed]",
      "text/plain": [
       "<Figure size 360x360 with 1 Axes>"
      ]
     },
     "metadata": {},
     "output_type": "display_data"
    }
   ],
   "source": [
    "# Wind and humidity\n",
    "sns.set_style(\"whitegrid\")\n",
    "sns_plot = sns.lmplot(x = \"humidity\",\n",
    "           y = \"wind\", \n",
    "           data = data, \n",
    "           fit_reg = True, \n",
    "           legend = True, \n",
    "           scatter_kws={\"s\": 5})"
   ]
  },
  {
   "cell_type": "code",
   "execution_count": 113,
   "metadata": {},
   "outputs": [
    {
     "data": {
      "image/png": "[encoded data removed]",
      "text/plain": [
       "<Figure size 360x360 with 1 Axes>"
      ]
     },
     "metadata": {},
     "output_type": "display_data"
    }
   ],
   "source": [
    "# Visibility and humidity\n",
    "sns.set_style(\"whitegrid\")\n",
    "sns_plot = sns.lmplot(x = \"humidity\",\n",
    "           y = \"visibility\", \n",
    "           data = data, \n",
    "           fit_reg = True, \n",
    "           legend = True, \n",
    "           scatter_kws={\"s\": 5})"
   ]
  },
  {
   "cell_type": "markdown",
   "metadata": {},
   "source": [
    "#### Investigating pressure as a standalone"
   ]
  },
  {
   "cell_type": "code",
   "execution_count": 126,
   "metadata": {},
   "outputs": [
    {
     "data": {
      "text/plain": [
       "<matplotlib.axes._subplots.AxesSubplot at 0x12b1b4e48>"
      ]
     },
     "execution_count": 126,
     "metadata": {},
     "output_type": "execute_result"
    },
    {
     "data": {
      "image/png": "[encoded data removed]",
      "text/plain": [
       "<Figure size 432x288 with 1 Axes>"
      ]
     },
     "metadata": {},
     "output_type": "display_data"
    }
   ],
   "source": [
    "sns.boxplot(data[\"pressure\"])"
   ]
  },
  {
   "cell_type": "code",
   "execution_count": 125,
   "metadata": {},
   "outputs": [
    {
     "data": {
      "text/html": [
       "<div>\n",
       "<style scoped>\n",
       "    .dataframe tbody tr th:only-of-type {\n",
       "        vertical-align: middle;\n",
       "    }\n",
       "\n",
       "    .dataframe tbody tr th {\n",
       "        vertical-align: top;\n",
       "    }\n",
       "\n",
       "    .dataframe thead th {\n",
       "        text-align: right;\n",
       "    }\n",
       "</style>\n",
       "<table border=\"1\" class=\"dataframe\">\n",
       "  <thead>\n",
       "    <tr style=\"text-align: right;\">\n",
       "      <th></th>\n",
       "      <th>time_step</th>\n",
       "      <th>consumption</th>\n",
       "      <th>visibility</th>\n",
       "      <th>temperature</th>\n",
       "      <th>humidity</th>\n",
       "      <th>humidex</th>\n",
       "      <th>windchill</th>\n",
       "      <th>wind</th>\n",
       "      <th>pressure</th>\n",
       "      <th>Unnamed: 9</th>\n",
       "      <th>time_step</th>\n",
       "      <th>washing_machine</th>\n",
       "      <th>fridge_freezer</th>\n",
       "      <th>TV</th>\n",
       "      <th>kettle</th>\n",
       "    </tr>\n",
       "  </thead>\n",
       "  <tbody>\n",
       "    <tr>\n",
       "      <th>11699</th>\n",
       "      <td>2013-03-25T03:00:00.0</td>\n",
       "      <td>550.9000</td>\n",
       "      <td>27.0</td>\n",
       "      <td>6.1</td>\n",
       "      <td>65.0</td>\n",
       "      <td>6.1</td>\n",
       "      <td>2.0</td>\n",
       "      <td>24.0</td>\n",
       "      <td>1.0</td>\n",
       "      <td>NaN</td>\n",
       "      <td>2013-03-25T03:00:00.0</td>\n",
       "      <td>0.000</td>\n",
       "      <td>88.9000</td>\n",
       "      <td>7.0000</td>\n",
       "      <td>0.0000</td>\n",
       "    </tr>\n",
       "    <tr>\n",
       "      <th>29219</th>\n",
       "      <td>2013-04-06T07:00:00.0</td>\n",
       "      <td>250.5000</td>\n",
       "      <td>5.0</td>\n",
       "      <td>10.2</td>\n",
       "      <td>100.0</td>\n",
       "      <td>11.5</td>\n",
       "      <td>8.3</td>\n",
       "      <td>13.0</td>\n",
       "      <td>1.0</td>\n",
       "      <td>NaN</td>\n",
       "      <td>2013-04-06T07:00:00.0</td>\n",
       "      <td>0.000</td>\n",
       "      <td>0.0000</td>\n",
       "      <td>7.0000</td>\n",
       "      <td>0.0000</td>\n",
       "    </tr>\n",
       "    <tr>\n",
       "      <th>71879</th>\n",
       "      <td>2013-05-05T22:00:00.0</td>\n",
       "      <td>216.8000</td>\n",
       "      <td>21.0</td>\n",
       "      <td>12.4</td>\n",
       "      <td>67.0</td>\n",
       "      <td>12.4</td>\n",
       "      <td>10.7</td>\n",
       "      <td>15.0</td>\n",
       "      <td>1.0</td>\n",
       "      <td>NaN</td>\n",
       "      <td>2013-05-05T22:00:00.0</td>\n",
       "      <td>0.400</td>\n",
       "      <td>0.0000</td>\n",
       "      <td>7.0000</td>\n",
       "      <td>0.0000</td>\n",
       "    </tr>\n",
       "    <tr>\n",
       "      <th>74639</th>\n",
       "      <td>2013-05-07T20:00:00.0</td>\n",
       "      <td>336.6000</td>\n",
       "      <td>5.0</td>\n",
       "      <td>8.4</td>\n",
       "      <td>96.0</td>\n",
       "      <td>8.7</td>\n",
       "      <td>6.5</td>\n",
       "      <td>11.0</td>\n",
       "      <td>1.0</td>\n",
       "      <td>4.0</td>\n",
       "      <td>2013-05-07T20:00:00.0</td>\n",
       "      <td>0.000</td>\n",
       "      <td>0.0000</td>\n",
       "      <td>7.0000</td>\n",
       "      <td>0.0000</td>\n",
       "    </tr>\n",
       "    <tr>\n",
       "      <th>215279</th>\n",
       "      <td>2013-08-13T12:00:00.0</td>\n",
       "      <td>202.0000</td>\n",
       "      <td>35.0</td>\n",
       "      <td>16.3</td>\n",
       "      <td>70.0</td>\n",
       "      <td>17.9</td>\n",
       "      <td>15.0</td>\n",
       "      <td>22.0</td>\n",
       "      <td>1.0</td>\n",
       "      <td>NaN</td>\n",
       "      <td>2013-08-13T12:00:00.0</td>\n",
       "      <td>0.000</td>\n",
       "      <td>0.0000</td>\n",
       "      <td>7.0000</td>\n",
       "      <td>0.0000</td>\n",
       "    </tr>\n",
       "    <tr>\n",
       "      <th>220979</th>\n",
       "      <td>2013-08-17T11:00:00.0</td>\n",
       "      <td>246.5000</td>\n",
       "      <td>35.0</td>\n",
       "      <td>12.5</td>\n",
       "      <td>79.0</td>\n",
       "      <td>13.3</td>\n",
       "      <td>10.1</td>\n",
       "      <td>24.0</td>\n",
       "      <td>1.0</td>\n",
       "      <td>NaN</td>\n",
       "      <td>2013-08-17T11:00:00.0</td>\n",
       "      <td>0.000</td>\n",
       "      <td>170.9000</td>\n",
       "      <td>7.0000</td>\n",
       "      <td>0.0000</td>\n",
       "    </tr>\n",
       "    <tr>\n",
       "      <th>307499</th>\n",
       "      <td>2013-10-16T13:00:00.0</td>\n",
       "      <td>225.3333</td>\n",
       "      <td>30.0</td>\n",
       "      <td>12.2</td>\n",
       "      <td>88.0</td>\n",
       "      <td>13.5</td>\n",
       "      <td>10.0</td>\n",
       "      <td>20.0</td>\n",
       "      <td>1.0</td>\n",
       "      <td>NaN</td>\n",
       "      <td>2013-10-16T13:00:00.0</td>\n",
       "      <td>0.000</td>\n",
       "      <td>0.0000</td>\n",
       "      <td>7.0000</td>\n",
       "      <td>0.0000</td>\n",
       "    </tr>\n",
       "    <tr>\n",
       "      <th>307739</th>\n",
       "      <td>2013-10-16T17:00:00.0</td>\n",
       "      <td>208.1111</td>\n",
       "      <td>21.0</td>\n",
       "      <td>12.3</td>\n",
       "      <td>88.0</td>\n",
       "      <td>13.6</td>\n",
       "      <td>10.1</td>\n",
       "      <td>20.0</td>\n",
       "      <td>1.0</td>\n",
       "      <td>NaN</td>\n",
       "      <td>2013-10-16T17:00:00.0</td>\n",
       "      <td>0.000</td>\n",
       "      <td>0.0000</td>\n",
       "      <td>7.0000</td>\n",
       "      <td>0.0000</td>\n",
       "    </tr>\n",
       "    <tr>\n",
       "      <th>312059</th>\n",
       "      <td>2013-10-19T17:00:00.0</td>\n",
       "      <td>170.6250</td>\n",
       "      <td>35.0</td>\n",
       "      <td>12.2</td>\n",
       "      <td>88.0</td>\n",
       "      <td>13.5</td>\n",
       "      <td>9.9</td>\n",
       "      <td>22.0</td>\n",
       "      <td>1.0</td>\n",
       "      <td>NaN</td>\n",
       "      <td>2013-10-19T17:00:00.0</td>\n",
       "      <td>0.375</td>\n",
       "      <td>0.0000</td>\n",
       "      <td>18.8750</td>\n",
       "      <td>0.0000</td>\n",
       "    </tr>\n",
       "    <tr>\n",
       "      <th>330839</th>\n",
       "      <td>2013-11-01T18:00:00.0</td>\n",
       "      <td>2695.2500</td>\n",
       "      <td>10.0</td>\n",
       "      <td>11.4</td>\n",
       "      <td>86.0</td>\n",
       "      <td>12.2</td>\n",
       "      <td>9.1</td>\n",
       "      <td>19.0</td>\n",
       "      <td>1.0</td>\n",
       "      <td>NaN</td>\n",
       "      <td>2013-11-01T18:00:00.0</td>\n",
       "      <td>0.000</td>\n",
       "      <td>164.6250</td>\n",
       "      <td>30.0000</td>\n",
       "      <td>0.0000</td>\n",
       "    </tr>\n",
       "    <tr>\n",
       "      <th>342119</th>\n",
       "      <td>2013-11-09T14:00:00.0</td>\n",
       "      <td>2449.2222</td>\n",
       "      <td>25.0</td>\n",
       "      <td>11.0</td>\n",
       "      <td>76.0</td>\n",
       "      <td>11.0</td>\n",
       "      <td>11.0</td>\n",
       "      <td>4.0</td>\n",
       "      <td>1.0</td>\n",
       "      <td>NaN</td>\n",
       "      <td>2013-11-09T14:00:00.0</td>\n",
       "      <td>0.000</td>\n",
       "      <td>76.1111</td>\n",
       "      <td>67.2222</td>\n",
       "      <td>0.0000</td>\n",
       "    </tr>\n",
       "    <tr>\n",
       "      <th>350819</th>\n",
       "      <td>2013-11-15T15:00:00.0</td>\n",
       "      <td>1416.3333</td>\n",
       "      <td>22.0</td>\n",
       "      <td>8.2</td>\n",
       "      <td>91.0</td>\n",
       "      <td>8.2</td>\n",
       "      <td>7.1</td>\n",
       "      <td>7.0</td>\n",
       "      <td>1.0</td>\n",
       "      <td>NaN</td>\n",
       "      <td>2013-11-15T15:00:00.0</td>\n",
       "      <td>0.000</td>\n",
       "      <td>151.1667</td>\n",
       "      <td>7.0000</td>\n",
       "      <td>1006.6667</td>\n",
       "    </tr>\n",
       "    <tr>\n",
       "      <th>390119</th>\n",
       "      <td>2013-12-12T22:00:00.0</td>\n",
       "      <td>312.5000</td>\n",
       "      <td>50.0</td>\n",
       "      <td>3.0</td>\n",
       "      <td>70.0</td>\n",
       "      <td>3.0</td>\n",
       "      <td>-0.4</td>\n",
       "      <td>13.0</td>\n",
       "      <td>1.0</td>\n",
       "      <td>NaN</td>\n",
       "      <td>2013-12-12T22:00:00.0</td>\n",
       "      <td>0.000</td>\n",
       "      <td>0.0000</td>\n",
       "      <td>48.0000</td>\n",
       "      <td>0.0000</td>\n",
       "    </tr>\n",
       "  </tbody>\n",
       "</table>\n",
       "</div>"
      ],
      "text/plain": [
       "                    time_step  consumption  visibility  temperature  humidity  \\\n",
       "11699   2013-03-25T03:00:00.0     550.9000        27.0          6.1      65.0   \n",
       "29219   2013-04-06T07:00:00.0     250.5000         5.0         10.2     100.0   \n",
       "71879   2013-05-05T22:00:00.0     216.8000        21.0         12.4      67.0   \n",
       "74639   2013-05-07T20:00:00.0     336.6000         5.0          8.4      96.0   \n",
       "215279  2013-08-13T12:00:00.0     202.0000        35.0         16.3      70.0   \n",
       "220979  2013-08-17T11:00:00.0     246.5000        35.0         12.5      79.0   \n",
       "307499  2013-10-16T13:00:00.0     225.3333        30.0         12.2      88.0   \n",
       "307739  2013-10-16T17:00:00.0     208.1111        21.0         12.3      88.0   \n",
       "312059  2013-10-19T17:00:00.0     170.6250        35.0         12.2      88.0   \n",
       "330839  2013-11-01T18:00:00.0    2695.2500        10.0         11.4      86.0   \n",
       "342119  2013-11-09T14:00:00.0    2449.2222        25.0         11.0      76.0   \n",
       "350819  2013-11-15T15:00:00.0    1416.3333        22.0          8.2      91.0   \n",
       "390119  2013-12-12T22:00:00.0     312.5000        50.0          3.0      70.0   \n",
       "\n",
       "        humidex  windchill  wind  pressure  Unnamed: 9              time_step  \\\n",
       "11699       6.1        2.0  24.0       1.0         NaN  2013-03-25T03:00:00.0   \n",
       "29219      11.5        8.3  13.0       1.0         NaN  2013-04-06T07:00:00.0   \n",
       "71879      12.4       10.7  15.0       1.0         NaN  2013-05-05T22:00:00.0   \n",
       "74639       8.7        6.5  11.0       1.0         4.0  2013-05-07T20:00:00.0   \n",
       "215279     17.9       15.0  22.0       1.0         NaN  2013-08-13T12:00:00.0   \n",
       "220979     13.3       10.1  24.0       1.0         NaN  2013-08-17T11:00:00.0   \n",
       "307499     13.5       10.0  20.0       1.0         NaN  2013-10-16T13:00:00.0   \n",
       "307739     13.6       10.1  20.0       1.0         NaN  2013-10-16T17:00:00.0   \n",
       "312059     13.5        9.9  22.0       1.0         NaN  2013-10-19T17:00:00.0   \n",
       "330839     12.2        9.1  19.0       1.0         NaN  2013-11-01T18:00:00.0   \n",
       "342119     11.0       11.0   4.0       1.0         NaN  2013-11-09T14:00:00.0   \n",
       "350819      8.2        7.1   7.0       1.0         NaN  2013-11-15T15:00:00.0   \n",
       "390119      3.0       -0.4  13.0       1.0         NaN  2013-12-12T22:00:00.0   \n",
       "\n",
       "        washing_machine  fridge_freezer       TV     kettle  \n",
       "11699             0.000         88.9000   7.0000     0.0000  \n",
       "29219             0.000          0.0000   7.0000     0.0000  \n",
       "71879             0.400          0.0000   7.0000     0.0000  \n",
       "74639             0.000          0.0000   7.0000     0.0000  \n",
       "215279            0.000          0.0000   7.0000     0.0000  \n",
       "220979            0.000        170.9000   7.0000     0.0000  \n",
       "307499            0.000          0.0000   7.0000     0.0000  \n",
       "307739            0.000          0.0000   7.0000     0.0000  \n",
       "312059            0.375          0.0000  18.8750     0.0000  \n",
       "330839            0.000        164.6250  30.0000     0.0000  \n",
       "342119            0.000         76.1111  67.2222     0.0000  \n",
       "350819            0.000        151.1667   7.0000  1006.6667  \n",
       "390119            0.000          0.0000  48.0000     0.0000  "
      ]
     },
     "execution_count": 125,
     "metadata": {},
     "output_type": "execute_result"
    }
   ],
   "source": [
    "mask = data[\"pressure\"]<250\n",
    "data[mask]"
   ]
  },
  {
   "cell_type": "code",
   "execution_count": 30,
   "metadata": {},
   "outputs": [
    {
     "data": {
      "text/plain": [
       "array([[<matplotlib.axes._subplots.AxesSubplot object at 0x126060240>,\n",
       "        <matplotlib.axes._subplots.AxesSubplot object at 0x128a1b208>],\n",
       "       [<matplotlib.axes._subplots.AxesSubplot object at 0x128abdd30>,\n",
       "        <matplotlib.axes._subplots.AxesSubplot object at 0x128adf320>]],\n",
       "      dtype=object)"
      ]
     },
     "execution_count": 30,
     "metadata": {},
     "output_type": "execute_result"
    },
    {
     "data": {
      "image/png": "[encoded data removed]",
      "text/plain": [
       "<Figure size 720x720 with 4 Axes>"
      ]
     },
     "metadata": {
      "needs_background": "light"
     },
     "output_type": "display_data"
    }
   ],
   "source": [
    "# Getting a first look at the output\n",
    "%matplotlib inline\n",
    "y_train.hist(bins=50, figsize=(10,10))"
   ]
  },
  {
   "cell_type": "code",
   "execution_count": 63,
   "metadata": {},
   "outputs": [
    {
     "name": "stdout",
     "output_type": "stream",
     "text": [
      "Mean 4.95 Median 0.00\n"
     ]
    },
    {
     "data": {
      "text/plain": [
       "<matplotlib.axes._subplots.AxesSubplot at 0x132264748>"
      ]
     },
     "execution_count": 63,
     "metadata": {},
     "output_type": "execute_result"
    },
    {
     "data": {
      "image/png": "[encoded data removed]",
      "text/plain": [
       "<Figure size 432x288 with 1 Axes>"
      ]
     },
     "metadata": {
      "needs_background": "light"
     },
     "output_type": "display_data"
    }
   ],
   "source": [
    "print(\"Mean\",\"%.2f\"%np.nanmean(data[\"kettle\"]), \"Median\",\"%.2f\"%np.nanmedian(data[\"kettle\"]) )\n",
    "sns.boxplot(x=data[\"kettle\"])"
   ]
  },
  {
   "cell_type": "markdown",
   "metadata": {},
   "source": [
    "#### Investigating outputs relatively to one another: we want to predict appliances' share of total consumption"
   ]
  },
  {
   "cell_type": "markdown",
   "metadata": {},
   "source": [
    "##### a) First investigating all outputs relatively to the consumption variable"
   ]
  },
  {
   "cell_type": "markdown",
   "metadata": {},
   "source": [
    "We place the graphs sequentially to be able to compare them by eye.  \n",
    "For every graph, we observe that the high occurrence of points at 0 cause fallacious linear regression fits.  "
   ]
  },
  {
   "cell_type": "code",
   "execution_count": 145,
   "metadata": {},
   "outputs": [
    {
     "data": {
      "image/png": "[encoded data removed]",
      "text/plain": [
       "<Figure size 360x360 with 1 Axes>"
      ]
     },
     "metadata": {},
     "output_type": "display_data"
    }
   ],
   "source": [
    "# Washing machine \n",
    "sns.set_style(\"whitegrid\")\n",
    "sns_plot = sns.lmplot(x = \"consumption\",\n",
    "           y = \"washing_machine\", \n",
    "           data = data,  \n",
    "           legend = True, \n",
    "           scatter_kws={\"s\": 5})"
   ]
  },
  {
   "cell_type": "markdown",
   "metadata": {},
   "source": [
    "It seems that most washing machine consumption and overall consumption couples linearly together (approx y = 0.5x), except when there is no washing machine which impacts our regression fit.  \n",
    "Note that 3/4 of our dataset actually presents no washing machine consumption at all..."
   ]
  },
  {
   "cell_type": "code",
   "execution_count": 5,
   "metadata": {},
   "outputs": [
    {
     "data": {
      "text/plain": [
       "(417599, 14)"
      ]
     },
     "execution_count": 5,
     "metadata": {},
     "output_type": "execute_result"
    }
   ],
   "source": [
    "mask = data[\"washing_machine\"]==0\n",
    "data.shape"
   ]
  },
  {
   "cell_type": "code",
   "execution_count": 146,
   "metadata": {},
   "outputs": [
    {
     "data": {
      "image/png": "[encoded data removed]",
      "text/plain": [
       "<Figure size 360x360 with 1 Axes>"
      ]
     },
     "metadata": {},
     "output_type": "display_data"
    }
   ],
   "source": [
    "# Fridge_freezer\n",
    "sns.set_style(\"whitegrid\")\n",
    "sns_plot = sns.lmplot(x = \"consumption\",\n",
    "           y = \"fridge_freezer\", \n",
    "           data = data,  \n",
    "           legend = True, \n",
    "           scatter_kws={\"s\": 5})"
   ]
  },
  {
   "cell_type": "markdown",
   "metadata": {},
   "source": [
    "We observe three levels of consumption for our fridge_freezers at any total consumption over 1000W.  \n",
    "Under 1000W, it would seem that points are equi-distributed. "
   ]
  },
  {
   "cell_type": "code",
   "execution_count": 147,
   "metadata": {},
   "outputs": [
    {
     "data": {
      "image/png": "[encoded data removed]",
      "text/plain": [
       "<Figure size 360x360 with 1 Axes>"
      ]
     },
     "metadata": {},
     "output_type": "display_data"
    }
   ],
   "source": [
    "# Kettle\n",
    "sns.set_style(\"whitegrid\")\n",
    "sns_plot = sns.lmplot(x = \"consumption\",\n",
    "           y = \"kettle\", \n",
    "           data = data,  \n",
    "           legend = True, \n",
    "           scatter_kws={\"s\": 5})"
   ]
  },
  {
   "cell_type": "markdown",
   "metadata": {},
   "source": [
    "Again, we observe two very different cases: either kettle consumption is set to zero, either it depends linearly on consumption. "
   ]
  },
  {
   "cell_type": "code",
   "execution_count": 148,
   "metadata": {},
   "outputs": [
    {
     "data": {
      "image/png": "[encoded data removed]",
      "text/plain": [
       "<Figure size 360x360 with 1 Axes>"
      ]
     },
     "metadata": {},
     "output_type": "display_data"
    }
   ],
   "source": [
    "# TV\n",
    "sns.set_style(\"whitegrid\")\n",
    "sns_plot = sns.lmplot(x = \"consumption\",\n",
    "           y = \"TV\", \n",
    "           data = data,  \n",
    "           legend = True, \n",
    "           scatter_kws={\"s\": 5})"
   ]
  },
  {
   "cell_type": "markdown",
   "metadata": {},
   "source": [
    "Relations between TV and overall consumption are more difficult to establish: we seem to have thresholds, once again."
   ]
  },
  {
   "cell_type": "markdown",
   "metadata": {},
   "source": [
    "##### b) Then investigating all variables relatively to washing machine since it is the most consuming appliance"
   ]
  },
  {
   "cell_type": "code",
   "execution_count": 141,
   "metadata": {},
   "outputs": [
    {
     "data": {
      "image/png": "[encoded data removed]",
      "text/plain": [
       "<Figure size 360x360 with 1 Axes>"
      ]
     },
     "metadata": {},
     "output_type": "display_data"
    }
   ],
   "source": [
    "# Case in point with washing_machine and fridge_freezer\n",
    "sns.set_style(\"whitegrid\")\n",
    "sns_plot = sns.lmplot(x = \"washing_machine\",\n",
    "           y = \"fridge_freezer\", \n",
    "           data = data,  \n",
    "           legend = True, \n",
    "           scatter_kws={\"s\": 5})"
   ]
  },
  {
   "cell_type": "code",
   "execution_count": 142,
   "metadata": {},
   "outputs": [
    {
     "data": {
      "image/png": "[encoded data removed]",
      "text/plain": [
       "<Figure size 360x360 with 1 Axes>"
      ]
     },
     "metadata": {},
     "output_type": "display_data"
    }
   ],
   "source": [
    "# Case in point with washing_machine and kettle\n",
    "sns.set_style(\"whitegrid\")\n",
    "sns_plot = sns.lmplot(x = \"washing_machine\",\n",
    "           y = \"kettle\", \n",
    "           data = data,  \n",
    "           legend = True, \n",
    "           scatter_kws={\"s\": 5})"
   ]
  },
  {
   "cell_type": "code",
   "execution_count": 143,
   "metadata": {},
   "outputs": [
    {
     "data": {
      "image/png": "[encoded data removed]",
      "text/plain": [
       "<Figure size 360x360 with 1 Axes>"
      ]
     },
     "metadata": {},
     "output_type": "display_data"
    }
   ],
   "source": [
    "# Case in point with washing_machine and TV\n",
    "sns.set_style(\"whitegrid\")\n",
    "sns_plot = sns.lmplot(x = \"washing_machine\",\n",
    "           y = \"TV\", \n",
    "           data = data,  \n",
    "           legend = True, \n",
    "           scatter_kws={\"s\": 5})"
   ]
  },
  {
   "cell_type": "markdown",
   "metadata": {},
   "source": [
    "###### Simply making the dates exploitable and exploring data along that dimension"
   ]
  },
  {
   "cell_type": "markdown",
   "metadata": {},
   "source": [
    "We actually have a time-series."
   ]
  },
  {
   "cell_type": "code",
   "execution_count": 10,
   "metadata": {},
   "outputs": [
    {
     "data": {
      "text/html": [
       "<div>\n",
       "<style scoped>\n",
       "    .dataframe tbody tr th:only-of-type {\n",
       "        vertical-align: middle;\n",
       "    }\n",
       "\n",
       "    .dataframe tbody tr th {\n",
       "        vertical-align: top;\n",
       "    }\n",
       "\n",
       "    .dataframe thead th {\n",
       "        text-align: right;\n",
       "    }\n",
       "</style>\n",
       "<table border=\"1\" class=\"dataframe\">\n",
       "  <thead>\n",
       "    <tr style=\"text-align: right;\">\n",
       "      <th></th>\n",
       "      <th>consumption</th>\n",
       "      <th>visibility</th>\n",
       "      <th>temperature</th>\n",
       "      <th>humidity</th>\n",
       "      <th>humidex</th>\n",
       "      <th>windchill</th>\n",
       "      <th>wind</th>\n",
       "      <th>pressure</th>\n",
       "      <th>Unnamed: 9</th>\n",
       "      <th>time_step</th>\n",
       "      <th>washing_machine</th>\n",
       "      <th>fridge_freezer</th>\n",
       "      <th>TV</th>\n",
       "      <th>kettle</th>\n",
       "    </tr>\n",
       "  </thead>\n",
       "  <tbody>\n",
       "    <tr>\n",
       "      <th>0</th>\n",
       "      <td>550.4000</td>\n",
       "      <td>NaN</td>\n",
       "      <td>NaN</td>\n",
       "      <td>NaN</td>\n",
       "      <td>NaN</td>\n",
       "      <td>NaN</td>\n",
       "      <td>NaN</td>\n",
       "      <td>NaN</td>\n",
       "      <td>NaN</td>\n",
       "      <td>2013-03-17 00:01:00</td>\n",
       "      <td>0.0</td>\n",
       "      <td>79.2000</td>\n",
       "      <td>7.0</td>\n",
       "      <td>0.0</td>\n",
       "    </tr>\n",
       "    <tr>\n",
       "      <th>1</th>\n",
       "      <td>548.6000</td>\n",
       "      <td>NaN</td>\n",
       "      <td>NaN</td>\n",
       "      <td>NaN</td>\n",
       "      <td>NaN</td>\n",
       "      <td>NaN</td>\n",
       "      <td>NaN</td>\n",
       "      <td>NaN</td>\n",
       "      <td>NaN</td>\n",
       "      <td>2013-03-17 00:02:00</td>\n",
       "      <td>0.0</td>\n",
       "      <td>78.0000</td>\n",
       "      <td>7.0</td>\n",
       "      <td>0.0</td>\n",
       "    </tr>\n",
       "    <tr>\n",
       "      <th>2</th>\n",
       "      <td>549.3000</td>\n",
       "      <td>NaN</td>\n",
       "      <td>NaN</td>\n",
       "      <td>NaN</td>\n",
       "      <td>NaN</td>\n",
       "      <td>NaN</td>\n",
       "      <td>NaN</td>\n",
       "      <td>NaN</td>\n",
       "      <td>NaN</td>\n",
       "      <td>2013-03-17 00:03:00</td>\n",
       "      <td>0.0</td>\n",
       "      <td>76.9000</td>\n",
       "      <td>7.0</td>\n",
       "      <td>0.0</td>\n",
       "    </tr>\n",
       "    <tr>\n",
       "      <th>3</th>\n",
       "      <td>549.3667</td>\n",
       "      <td>NaN</td>\n",
       "      <td>NaN</td>\n",
       "      <td>NaN</td>\n",
       "      <td>NaN</td>\n",
       "      <td>NaN</td>\n",
       "      <td>NaN</td>\n",
       "      <td>NaN</td>\n",
       "      <td>NaN</td>\n",
       "      <td>2013-03-17 00:04:00</td>\n",
       "      <td>0.0</td>\n",
       "      <td>76.1111</td>\n",
       "      <td>7.0</td>\n",
       "      <td>0.0</td>\n",
       "    </tr>\n",
       "    <tr>\n",
       "      <th>4</th>\n",
       "      <td>548.8909</td>\n",
       "      <td>NaN</td>\n",
       "      <td>NaN</td>\n",
       "      <td>NaN</td>\n",
       "      <td>NaN</td>\n",
       "      <td>NaN</td>\n",
       "      <td>NaN</td>\n",
       "      <td>NaN</td>\n",
       "      <td>NaN</td>\n",
       "      <td>2013-03-17 00:05:00</td>\n",
       "      <td>0.0</td>\n",
       "      <td>75.2727</td>\n",
       "      <td>7.0</td>\n",
       "      <td>0.0</td>\n",
       "    </tr>\n",
       "  </tbody>\n",
       "</table>\n",
       "</div>"
      ],
      "text/plain": [
       "   consumption  visibility  temperature  humidity  humidex  windchill  wind  \\\n",
       "0     550.4000         NaN          NaN       NaN      NaN        NaN   NaN   \n",
       "1     548.6000         NaN          NaN       NaN      NaN        NaN   NaN   \n",
       "2     549.3000         NaN          NaN       NaN      NaN        NaN   NaN   \n",
       "3     549.3667         NaN          NaN       NaN      NaN        NaN   NaN   \n",
       "4     548.8909         NaN          NaN       NaN      NaN        NaN   NaN   \n",
       "\n",
       "   pressure  Unnamed: 9           time_step  washing_machine  fridge_freezer  \\\n",
       "0       NaN         NaN 2013-03-17 00:01:00              0.0         79.2000   \n",
       "1       NaN         NaN 2013-03-17 00:02:00              0.0         78.0000   \n",
       "2       NaN         NaN 2013-03-17 00:03:00              0.0         76.9000   \n",
       "3       NaN         NaN 2013-03-17 00:04:00              0.0         76.1111   \n",
       "4       NaN         NaN 2013-03-17 00:05:00              0.0         75.2727   \n",
       "\n",
       "    TV  kettle  \n",
       "0  7.0     0.0  \n",
       "1  7.0     0.0  \n",
       "2  7.0     0.0  \n",
       "3  7.0     0.0  \n",
       "4  7.0     0.0  "
      ]
     },
     "execution_count": 10,
     "metadata": {},
     "output_type": "execute_result"
    }
   ],
   "source": [
    "data[\"time_step\"] = pd.to_datetime(data[\"time_step\"])\n",
    "data.head()"
   ]
  },
  {
   "cell_type": "code",
   "execution_count": 11,
   "metadata": {},
   "outputs": [
    {
     "data": {
      "text/html": [
       "<div>\n",
       "<style scoped>\n",
       "    .dataframe tbody tr th:only-of-type {\n",
       "        vertical-align: middle;\n",
       "    }\n",
       "\n",
       "    .dataframe tbody tr th {\n",
       "        vertical-align: top;\n",
       "    }\n",
       "\n",
       "    .dataframe thead th {\n",
       "        text-align: right;\n",
       "    }\n",
       "</style>\n",
       "<table border=\"1\" class=\"dataframe\">\n",
       "  <thead>\n",
       "    <tr style=\"text-align: right;\">\n",
       "      <th></th>\n",
       "      <th>consumption</th>\n",
       "      <th>visibility</th>\n",
       "      <th>temperature</th>\n",
       "      <th>humidity</th>\n",
       "      <th>humidex</th>\n",
       "      <th>windchill</th>\n",
       "      <th>wind</th>\n",
       "      <th>pressure</th>\n",
       "      <th>Unnamed: 9</th>\n",
       "      <th>time_step</th>\n",
       "      <th>washing_machine</th>\n",
       "      <th>fridge_freezer</th>\n",
       "      <th>TV</th>\n",
       "      <th>kettle</th>\n",
       "      <th>month</th>\n",
       "      <th>day</th>\n",
       "      <th>hour</th>\n",
       "      <th>minute</th>\n",
       "    </tr>\n",
       "  </thead>\n",
       "  <tbody>\n",
       "    <tr>\n",
       "      <th>0</th>\n",
       "      <td>550.4000</td>\n",
       "      <td>NaN</td>\n",
       "      <td>NaN</td>\n",
       "      <td>NaN</td>\n",
       "      <td>NaN</td>\n",
       "      <td>NaN</td>\n",
       "      <td>NaN</td>\n",
       "      <td>NaN</td>\n",
       "      <td>NaN</td>\n",
       "      <td>2013-03-17 00:01:00</td>\n",
       "      <td>0.0</td>\n",
       "      <td>79.2000</td>\n",
       "      <td>7.0</td>\n",
       "      <td>0.0</td>\n",
       "      <td>3</td>\n",
       "      <td>17</td>\n",
       "      <td>0</td>\n",
       "      <td>1</td>\n",
       "    </tr>\n",
       "    <tr>\n",
       "      <th>1</th>\n",
       "      <td>548.6000</td>\n",
       "      <td>NaN</td>\n",
       "      <td>NaN</td>\n",
       "      <td>NaN</td>\n",
       "      <td>NaN</td>\n",
       "      <td>NaN</td>\n",
       "      <td>NaN</td>\n",
       "      <td>NaN</td>\n",
       "      <td>NaN</td>\n",
       "      <td>2013-03-17 00:02:00</td>\n",
       "      <td>0.0</td>\n",
       "      <td>78.0000</td>\n",
       "      <td>7.0</td>\n",
       "      <td>0.0</td>\n",
       "      <td>3</td>\n",
       "      <td>17</td>\n",
       "      <td>0</td>\n",
       "      <td>2</td>\n",
       "    </tr>\n",
       "    <tr>\n",
       "      <th>2</th>\n",
       "      <td>549.3000</td>\n",
       "      <td>NaN</td>\n",
       "      <td>NaN</td>\n",
       "      <td>NaN</td>\n",
       "      <td>NaN</td>\n",
       "      <td>NaN</td>\n",
       "      <td>NaN</td>\n",
       "      <td>NaN</td>\n",
       "      <td>NaN</td>\n",
       "      <td>2013-03-17 00:03:00</td>\n",
       "      <td>0.0</td>\n",
       "      <td>76.9000</td>\n",
       "      <td>7.0</td>\n",
       "      <td>0.0</td>\n",
       "      <td>3</td>\n",
       "      <td>17</td>\n",
       "      <td>0</td>\n",
       "      <td>3</td>\n",
       "    </tr>\n",
       "    <tr>\n",
       "      <th>3</th>\n",
       "      <td>549.3667</td>\n",
       "      <td>NaN</td>\n",
       "      <td>NaN</td>\n",
       "      <td>NaN</td>\n",
       "      <td>NaN</td>\n",
       "      <td>NaN</td>\n",
       "      <td>NaN</td>\n",
       "      <td>NaN</td>\n",
       "      <td>NaN</td>\n",
       "      <td>2013-03-17 00:04:00</td>\n",
       "      <td>0.0</td>\n",
       "      <td>76.1111</td>\n",
       "      <td>7.0</td>\n",
       "      <td>0.0</td>\n",
       "      <td>3</td>\n",
       "      <td>17</td>\n",
       "      <td>0</td>\n",
       "      <td>4</td>\n",
       "    </tr>\n",
       "    <tr>\n",
       "      <th>4</th>\n",
       "      <td>548.8909</td>\n",
       "      <td>NaN</td>\n",
       "      <td>NaN</td>\n",
       "      <td>NaN</td>\n",
       "      <td>NaN</td>\n",
       "      <td>NaN</td>\n",
       "      <td>NaN</td>\n",
       "      <td>NaN</td>\n",
       "      <td>NaN</td>\n",
       "      <td>2013-03-17 00:05:00</td>\n",
       "      <td>0.0</td>\n",
       "      <td>75.2727</td>\n",
       "      <td>7.0</td>\n",
       "      <td>0.0</td>\n",
       "      <td>3</td>\n",
       "      <td>17</td>\n",
       "      <td>0</td>\n",
       "      <td>5</td>\n",
       "    </tr>\n",
       "  </tbody>\n",
       "</table>\n",
       "</div>"
      ],
      "text/plain": [
       "   consumption  visibility  temperature  humidity  humidex  windchill  wind  \\\n",
       "0     550.4000         NaN          NaN       NaN      NaN        NaN   NaN   \n",
       "1     548.6000         NaN          NaN       NaN      NaN        NaN   NaN   \n",
       "2     549.3000         NaN          NaN       NaN      NaN        NaN   NaN   \n",
       "3     549.3667         NaN          NaN       NaN      NaN        NaN   NaN   \n",
       "4     548.8909         NaN          NaN       NaN      NaN        NaN   NaN   \n",
       "\n",
       "   pressure  Unnamed: 9           time_step  washing_machine  fridge_freezer  \\\n",
       "0       NaN         NaN 2013-03-17 00:01:00              0.0         79.2000   \n",
       "1       NaN         NaN 2013-03-17 00:02:00              0.0         78.0000   \n",
       "2       NaN         NaN 2013-03-17 00:03:00              0.0         76.9000   \n",
       "3       NaN         NaN 2013-03-17 00:04:00              0.0         76.1111   \n",
       "4       NaN         NaN 2013-03-17 00:05:00              0.0         75.2727   \n",
       "\n",
       "    TV  kettle  month  day  hour  minute  \n",
       "0  7.0     0.0      3   17     0       1  \n",
       "1  7.0     0.0      3   17     0       2  \n",
       "2  7.0     0.0      3   17     0       3  \n",
       "3  7.0     0.0      3   17     0       4  \n",
       "4  7.0     0.0      3   17     0       5  "
      ]
     },
     "execution_count": 11,
     "metadata": {},
     "output_type": "execute_result"
    }
   ],
   "source": [
    "# Segmenting periods\n",
    "data[\"month\"] = data.apply(lambda x: x[\"time_step\"].month, axis=1)\n",
    "data[\"day\"] = data.apply(lambda x: x[\"time_step\"].day, axis=1)\n",
    "data[\"hour\"] = data.apply(lambda x: x[\"time_step\"].hour, axis=1)\n",
    "\n",
    "# Minuted could be especially valuable\n",
    "data[\"minute\"] = data.apply(lambda x: x[\"time_step\"].minute, axis=1)\n",
    "data.head()"
   ]
  },
  {
   "cell_type": "markdown",
   "metadata": {},
   "source": [
    "Let's have a look at our time-series distribution and maybe visualize the data.  \n",
    "This will allow us to check whether we measure our data uniformly across time. "
   ]
  },
  {
   "cell_type": "code",
   "execution_count": 12,
   "metadata": {},
   "outputs": [
    {
     "data": {
      "text/plain": [
       "array([[<matplotlib.axes._subplots.AxesSubplot object at 0x1a22af9748>,\n",
       "        <matplotlib.axes._subplots.AxesSubplot object at 0x1a42d2a0f0>],\n",
       "       [<matplotlib.axes._subplots.AxesSubplot object at 0x1a30ee66a0>,\n",
       "        <matplotlib.axes._subplots.AxesSubplot object at 0x1a42ce7c50>]],\n",
       "      dtype=object)"
      ]
     },
     "execution_count": 12,
     "metadata": {},
     "output_type": "execute_result"
    },
    {
     "data": {
      "image/png": "[encoded data removed]",
      "text/plain": [
       "<Figure size 432x288 with 4 Axes>"
      ]
     },
     "metadata": {
      "needs_background": "light"
     },
     "output_type": "display_data"
    }
   ],
   "source": [
    "data_dates = data.loc[:,\"month\":\"minute\"]\n",
    "data_dates.hist(bins=50)"
   ]
  },
  {
   "cell_type": "code",
   "execution_count": 13,
   "metadata": {},
   "outputs": [
    {
     "data": {
      "text/plain": [
       "23    17400\n",
       "22    17400\n",
       "1     17400\n",
       "2     17400\n",
       "3     17400\n",
       "4     17400\n",
       "5     17400\n",
       "6     17400\n",
       "7     17400\n",
       "8     17400\n",
       "9     17400\n",
       "10    17400\n",
       "11    17400\n",
       "12    17400\n",
       "13    17400\n",
       "14    17400\n",
       "15    17400\n",
       "16    17400\n",
       "17    17400\n",
       "18    17400\n",
       "19    17400\n",
       "20    17400\n",
       "21    17400\n",
       "0     17399\n",
       "Name: hour, dtype: int64"
      ]
     },
     "execution_count": 13,
     "metadata": {},
     "output_type": "execute_result"
    }
   ],
   "source": [
    "data[\"hour\"].value_counts()"
   ]
  },
  {
   "cell_type": "markdown",
   "metadata": {},
   "source": [
    "Measures are uniformly spread across hours, which will be useful to create two balanced datasets day/night if need be."
   ]
  },
  {
   "cell_type": "markdown",
   "metadata": {},
   "source": [
    "#### I. Initial missing values treatment and data exploration"
   ]
  },
  {
   "cell_type": "code",
   "execution_count": 14,
   "metadata": {},
   "outputs": [],
   "source": [
    "# We remove 10K observations from our dataset (2.4% of all observations)\n",
    "mask = data[\"consumption\"].isna()\n",
    "data = data.drop(data[mask].index)"
   ]
  },
  {
   "cell_type": "code",
   "execution_count": 15,
   "metadata": {},
   "outputs": [],
   "source": [
    "# Simulating normal distributions for temperature, windchill, and humidex\n",
    "# Completing NaNs for all of them although we could have dropped 2/3 variables altogether\n",
    "\n",
    "## Temperature\n",
    "mean1 = np.nanmean(data[\"temperature\"])\n",
    "std1 = np.nanstd(data[\"temperature\"])\n",
    "size1 = data.isna().sum()[\"temperature\"]\n",
    "temp_simu = np.floor(np.random.normal(mean1, std1, size1))\n",
    "\n",
    "## Windchill\n",
    "mean2 = np.nanmean(data[\"windchill\"])\n",
    "std2 = np.nanstd(data[\"windchill\"])\n",
    "size2 = data.isna().sum()[\"windchill\"]\n",
    "windchill_simu = np.floor(np.random.normal(mean2, std2, size2))\n",
    "\n",
    "## Humidex\n",
    "mean3 = np.nanmean(data[\"humidex\"])\n",
    "std3 = np.nanstd(data[\"humidex\"])\n",
    "size3 = data.isna().sum()[\"humidex\"]\n",
    "humidex_simu = np.floor(np.random.normal(mean3, std3, size3))"
   ]
  },
  {
   "cell_type": "code",
   "execution_count": 16,
   "metadata": {},
   "outputs": [
    {
     "data": {
      "text/plain": [
       "consumption             0\n",
       "visibility         400583\n",
       "temperature             0\n",
       "humidity           400583\n",
       "humidex                 0\n",
       "windchill               0\n",
       "wind               400583\n",
       "pressure           400587\n",
       "Unnamed: 9         407367\n",
       "time_step               0\n",
       "washing_machine         0\n",
       "fridge_freezer          0\n",
       "TV                      0\n",
       "kettle                  0\n",
       "month                   0\n",
       "day                     0\n",
       "hour                    0\n",
       "minute                  0\n",
       "dtype: int64"
      ]
     },
     "execution_count": 16,
     "metadata": {},
     "output_type": "execute_result"
    }
   ],
   "source": [
    "# We replace NaNs in our dataframe\n",
    "data.loc[:,\"temperature\"][data[\"temperature\"].isna()] = temp_simu\n",
    "data.loc[:,\"windchill\"][data[\"windchill\"].isna()] = windchill_simu\n",
    "data.loc[:,\"humidex\"][data[\"humidex\"].isna()] = humidex_simu\n",
    "\n",
    "# We now check that it worked\n",
    "data.isna().sum()"
   ]
  },
  {
   "cell_type": "markdown",
   "metadata": {},
   "source": [
    "##### a) Baseline missing value treatment using the median"
   ]
  },
  {
   "cell_type": "code",
   "execution_count": 17,
   "metadata": {},
   "outputs": [
    {
     "name": "stdout",
     "output_type": "stream",
     "text": [
      "1010.2137737796786 1013.3\n"
     ]
    }
   ],
   "source": [
    "# We affect the median value of each variable to the others as a baseline \n",
    "imputer = SimpleImputer(strategy=\"median\")\n",
    "comp_cols = [\"humidity\", \"visibility\", \"wind\"]\n",
    "\n",
    "data_comp = data.loc[:, comp_cols]\n",
    "imputer.fit(data_comp)\n",
    "X = imputer.transform(data_comp)\n",
    "data_comp_tr = pd.DataFrame(X, columns=data_comp.columns, index=data_comp.index)\n",
    "data.loc[:, comp_cols] = data_comp_tr\n",
    "\n",
    "\n",
    "\n",
    "print(np.nanmean(data[\"pressure\"]), np.nanmedian(data[\"pressure\"]))\n",
    "mask = data[\"pressure\"].isna()\n",
    "data[\"pressure\"].loc[mask] = np.nanmedian(data[\"pressure\"])"
   ]
  },
  {
   "cell_type": "code",
   "execution_count": 18,
   "metadata": {},
   "outputs": [],
   "source": [
    "data = data.drop(columns={\"Unnamed: 9\"})"
   ]
  },
  {
   "cell_type": "code",
   "execution_count": 19,
   "metadata": {},
   "outputs": [
    {
     "data": {
      "text/plain": [
       "consumption        0\n",
       "visibility         0\n",
       "temperature        0\n",
       "humidity           0\n",
       "humidex            0\n",
       "windchill          0\n",
       "wind               0\n",
       "pressure           0\n",
       "time_step          0\n",
       "washing_machine    0\n",
       "fridge_freezer     0\n",
       "TV                 0\n",
       "kettle             0\n",
       "month              0\n",
       "day                0\n",
       "hour               0\n",
       "minute             0\n",
       "dtype: int64"
      ]
     },
     "execution_count": 19,
     "metadata": {},
     "output_type": "execute_result"
    }
   ],
   "source": [
    "data.isna().sum()"
   ]
  },
  {
   "cell_type": "markdown",
   "metadata": {},
   "source": [
    "##### b) Smarter missing value treatment taking time series into account"
   ]
  },
  {
   "cell_type": "markdown",
   "metadata": {},
   "source": [
    "### II. Feature engineering"
   ]
  },
  {
   "cell_type": "markdown",
   "metadata": {},
   "source": [
    "Let us differentiate between day and night as this will strongly impact consumption. It could also allow us to train our models on two different datasets if useful. "
   ]
  },
  {
   "cell_type": "code",
   "execution_count": 20,
   "metadata": {},
   "outputs": [
    {
     "data": {
      "text/html": [
       "<div>\n",
       "<style scoped>\n",
       "    .dataframe tbody tr th:only-of-type {\n",
       "        vertical-align: middle;\n",
       "    }\n",
       "\n",
       "    .dataframe tbody tr th {\n",
       "        vertical-align: top;\n",
       "    }\n",
       "\n",
       "    .dataframe thead th {\n",
       "        text-align: right;\n",
       "    }\n",
       "</style>\n",
       "<table border=\"1\" class=\"dataframe\">\n",
       "  <thead>\n",
       "    <tr style=\"text-align: right;\">\n",
       "      <th></th>\n",
       "      <th>consumption</th>\n",
       "      <th>visibility</th>\n",
       "      <th>temperature</th>\n",
       "      <th>humidity</th>\n",
       "      <th>humidex</th>\n",
       "      <th>windchill</th>\n",
       "      <th>wind</th>\n",
       "      <th>pressure</th>\n",
       "      <th>time_step</th>\n",
       "      <th>washing_machine</th>\n",
       "      <th>fridge_freezer</th>\n",
       "      <th>TV</th>\n",
       "      <th>kettle</th>\n",
       "      <th>month</th>\n",
       "      <th>day</th>\n",
       "      <th>hour</th>\n",
       "      <th>minute</th>\n",
       "      <th>daytime</th>\n",
       "    </tr>\n",
       "  </thead>\n",
       "  <tbody>\n",
       "    <tr>\n",
       "      <th>0</th>\n",
       "      <td>550.4000</td>\n",
       "      <td>23.0</td>\n",
       "      <td>9.0</td>\n",
       "      <td>86.0</td>\n",
       "      <td>15.0</td>\n",
       "      <td>7.0</td>\n",
       "      <td>11.0</td>\n",
       "      <td>1013.3</td>\n",
       "      <td>2013-03-17 00:01:00</td>\n",
       "      <td>0.0</td>\n",
       "      <td>79.2000</td>\n",
       "      <td>7.0</td>\n",
       "      <td>0.0</td>\n",
       "      <td>3</td>\n",
       "      <td>17</td>\n",
       "      <td>0</td>\n",
       "      <td>1</td>\n",
       "      <td>0</td>\n",
       "    </tr>\n",
       "    <tr>\n",
       "      <th>1</th>\n",
       "      <td>548.6000</td>\n",
       "      <td>23.0</td>\n",
       "      <td>10.0</td>\n",
       "      <td>86.0</td>\n",
       "      <td>6.0</td>\n",
       "      <td>10.0</td>\n",
       "      <td>11.0</td>\n",
       "      <td>1013.3</td>\n",
       "      <td>2013-03-17 00:02:00</td>\n",
       "      <td>0.0</td>\n",
       "      <td>78.0000</td>\n",
       "      <td>7.0</td>\n",
       "      <td>0.0</td>\n",
       "      <td>3</td>\n",
       "      <td>17</td>\n",
       "      <td>0</td>\n",
       "      <td>2</td>\n",
       "      <td>0</td>\n",
       "    </tr>\n",
       "    <tr>\n",
       "      <th>2</th>\n",
       "      <td>549.3000</td>\n",
       "      <td>23.0</td>\n",
       "      <td>11.0</td>\n",
       "      <td>86.0</td>\n",
       "      <td>12.0</td>\n",
       "      <td>11.0</td>\n",
       "      <td>11.0</td>\n",
       "      <td>1013.3</td>\n",
       "      <td>2013-03-17 00:03:00</td>\n",
       "      <td>0.0</td>\n",
       "      <td>76.9000</td>\n",
       "      <td>7.0</td>\n",
       "      <td>0.0</td>\n",
       "      <td>3</td>\n",
       "      <td>17</td>\n",
       "      <td>0</td>\n",
       "      <td>3</td>\n",
       "      <td>0</td>\n",
       "    </tr>\n",
       "    <tr>\n",
       "      <th>3</th>\n",
       "      <td>549.3667</td>\n",
       "      <td>23.0</td>\n",
       "      <td>8.0</td>\n",
       "      <td>86.0</td>\n",
       "      <td>9.0</td>\n",
       "      <td>7.0</td>\n",
       "      <td>11.0</td>\n",
       "      <td>1013.3</td>\n",
       "      <td>2013-03-17 00:04:00</td>\n",
       "      <td>0.0</td>\n",
       "      <td>76.1111</td>\n",
       "      <td>7.0</td>\n",
       "      <td>0.0</td>\n",
       "      <td>3</td>\n",
       "      <td>17</td>\n",
       "      <td>0</td>\n",
       "      <td>4</td>\n",
       "      <td>0</td>\n",
       "    </tr>\n",
       "    <tr>\n",
       "      <th>4</th>\n",
       "      <td>548.8909</td>\n",
       "      <td>23.0</td>\n",
       "      <td>9.0</td>\n",
       "      <td>86.0</td>\n",
       "      <td>0.0</td>\n",
       "      <td>15.0</td>\n",
       "      <td>11.0</td>\n",
       "      <td>1013.3</td>\n",
       "      <td>2013-03-17 00:05:00</td>\n",
       "      <td>0.0</td>\n",
       "      <td>75.2727</td>\n",
       "      <td>7.0</td>\n",
       "      <td>0.0</td>\n",
       "      <td>3</td>\n",
       "      <td>17</td>\n",
       "      <td>0</td>\n",
       "      <td>5</td>\n",
       "      <td>0</td>\n",
       "    </tr>\n",
       "  </tbody>\n",
       "</table>\n",
       "</div>"
      ],
      "text/plain": [
       "   consumption  visibility  temperature  humidity  humidex  windchill  wind  \\\n",
       "0     550.4000        23.0          9.0      86.0     15.0        7.0  11.0   \n",
       "1     548.6000        23.0         10.0      86.0      6.0       10.0  11.0   \n",
       "2     549.3000        23.0         11.0      86.0     12.0       11.0  11.0   \n",
       "3     549.3667        23.0          8.0      86.0      9.0        7.0  11.0   \n",
       "4     548.8909        23.0          9.0      86.0      0.0       15.0  11.0   \n",
       "\n",
       "   pressure           time_step  washing_machine  fridge_freezer   TV  kettle  \\\n",
       "0    1013.3 2013-03-17 00:01:00              0.0         79.2000  7.0     0.0   \n",
       "1    1013.3 2013-03-17 00:02:00              0.0         78.0000  7.0     0.0   \n",
       "2    1013.3 2013-03-17 00:03:00              0.0         76.9000  7.0     0.0   \n",
       "3    1013.3 2013-03-17 00:04:00              0.0         76.1111  7.0     0.0   \n",
       "4    1013.3 2013-03-17 00:05:00              0.0         75.2727  7.0     0.0   \n",
       "\n",
       "   month  day  hour  minute  daytime  \n",
       "0      3   17     0       1        0  \n",
       "1      3   17     0       2        0  \n",
       "2      3   17     0       3        0  \n",
       "3      3   17     0       4        0  \n",
       "4      3   17     0       5        0  "
      ]
     },
     "execution_count": 20,
     "metadata": {},
     "output_type": "execute_result"
    }
   ],
   "source": [
    "# Creating a daytime feature\n",
    "day_boundaries = [7,20] # defining daytime hours, could segment more precisely \n",
    "\n",
    "data[\"daytime\"] = data.apply(lambda x: (x[\"hour\"]in day_boundaries)*1, axis=1)\n",
    "data.head()"
   ]
  },
  {
   "cell_type": "code",
   "execution_count": 96,
   "metadata": {},
   "outputs": [],
   "source": [
    "# Creating two day and night datasets to fit different models on \n",
    "## Day - Not resetting index to zero, so we can create night dataset\n",
    "data_day = data[data[\"hour\"] >= day_boundaries[0]]\n",
    "data_day = data_day[data[\"hour\"] <= day_boundaries[1]]\n",
    "\n",
    "## Night\n",
    "data_night = data.drop(data_day.index)\n",
    "data_night.head()\n",
    "\n",
    "## Reset indexes\n",
    "data_day = data_day.reset_index().drop(columns={\"index\"})\n",
    "data_night = data_night.reset_index().drop(columns={\"index\"})"
   ]
  },
  {
   "cell_type": "markdown",
   "metadata": {},
   "source": [
    "### III. Baseline model"
   ]
  },
  {
   "cell_type": "markdown",
   "metadata": {},
   "source": [
    "#### a) RandomForestRegressor - 1000 estimators - Part of the dataset"
   ]
  },
  {
   "cell_type": "code",
   "execution_count": 21,
   "metadata": {},
   "outputs": [],
   "source": [
    "forest_reg = RandomForestRegressor(n_estimators=1000)"
   ]
  },
  {
   "cell_type": "code",
   "execution_count": 22,
   "metadata": {},
   "outputs": [],
   "source": [
    "# Re-defining the train and test set after our modifications \n",
    "y_train = data.loc[:,\"washing_machine\":\"kettle\"]\n",
    "x_train = data.drop(columns={\"washing_machine\", \"kettle\", \"TV\", \"fridge_freezer\", \"time_step\"})\n",
    "\n",
    "## Saving them to csv\n"
   ]
  },
  {
   "cell_type": "code",
   "execution_count": null,
   "metadata": {},
   "outputs": [],
   "source": [
    "# Extracting a subset\n"
   ]
  },
  {
   "cell_type": "code",
   "execution_count": null,
   "metadata": {},
   "outputs": [],
   "source": [
    "## Fitting our random forest\n",
    "forest_reg.fit(x_train, y_train)"
   ]
  },
  {
   "cell_type": "code",
   "execution_count": null,
   "metadata": {},
   "outputs": [],
   "source": [
    "# Storing our predictions\n",
    "predictions = forest_reg.predict(x_train)"
   ]
  },
  {
   "cell_type": "code",
   "execution_count": null,
   "metadata": {},
   "outputs": [],
   "source": [
    "# Baseline R2\n",
    "forest_reg.score(x_train, y_train)"
   ]
  }
 ],
 "metadata": {
  "kernelspec": {
   "display_name": "Python 3",
   "language": "python",
   "name": "python3"
  },
  "language_info": {
   "codemirror_mode": {
    "name": "ipython",
    "version": 3
   },
   "file_extension": ".py",
   "mimetype": "text/x-python",
   "name": "python",
   "nbconvert_exporter": "python",
   "pygments_lexer": "ipython3",
   "version": "3.7.3"
  }
 },
 "nbformat": 4,
 "nbformat_minor": 2
}
